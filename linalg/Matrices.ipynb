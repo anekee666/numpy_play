{
  "nbformat": 4,
  "nbformat_minor": 0,
  "metadata": {
    "colab": {
      "provenance": [

      ]
    },
    "kernelspec": {
      "name": "python3",
      "display_name": "Python 3"
    },
    "language_info": {
      "name": "python"
    },
    "sc": "U79P7NnBNiFd_XtiGVhbMQ"
  },
  "cells": [
    {
      "cell_type": "code",
      "source": [
        "import numpy as np"
      ],
      "metadata": {
        "id": "z_Doz0m61vT6"
      },
      "execution_count": null,
      "outputs": [

      ]
    },
    {
      "cell_type": "markdown",
      "source": [
        "EXERCISE: Make sure to try these by hand first!"
      ],
      "metadata": {
        "id": "4MVw4mh4xwuz"
      }
    },
    {
      "cell_type": "markdown",
      "source": [
        "## Arrays vs Matrices\n",
        "\n",
        "$$ \\begin{pmatrix} 1 & 2 \\\\ 3 & 4 \\end{pmatrix} $$"
      ],
      "metadata": {
        "id": "m3bWS6x_avfh"
      }
    },
    {
      "cell_type": "code",
      "execution_count": null,
      "metadata": {
        "colab": {
          "base_uri": "https://localhost:8080/"
        },
        "id": "D1r_dPTiapLx",
        "outputId": "da881e49-b74b-4596-d9c4-5ae6ea4ea193"
      },
      "outputs": [
        {
          "output_type": "execute_result",
          "data": {
            "text/plain": [
              "array([[1, 2],\n",
              "       [3, 4]])"
            ]
          },
          "metadata": {
          },
          "execution_count": 2
        }
      ],
      "source": [
        "A = np.array([[1, 2], [3, 4]])\n",
        "A"
      ]
    },
    {
      "cell_type": "code",
      "source": [
        "L = [[1, 2], [3, 4]]\n",
        "L"
      ],
      "metadata": {
        "colab": {
          "base_uri": "https://localhost:8080/"
        },
        "id": "kylBY2S-0swr",
        "outputId": "2b308a76-54bc-4719-bb54-325f7e0910b1"
      },
      "execution_count": null,
      "outputs": [
        {
          "output_type": "execute_result",
          "data": {
            "text/plain": [
              "[[1, 2], [3, 4]]"
            ]
          },
          "metadata": {
          },
          "execution_count": 4
        }
      ]
    },
    {
      "cell_type": "code",
      "source": [
        "L[0][1]"
      ],
      "metadata": {
        "colab": {
          "base_uri": "https://localhost:8080/"
        },
        "id": "KxvGvOqR01ju",
        "outputId": "87a05ece-04e3-4fa1-b0ba-e94282f3943a"
      },
      "execution_count": null,
      "outputs": [
        {
          "output_type": "execute_result",
          "data": {
            "text/plain": [
              "2"
            ]
          },
          "metadata": {
          },
          "execution_count": 5
        }
      ]
    },
    {
      "cell_type": "code",
      "source": [
        "A[0][1]"
      ],
      "metadata": {
        "colab": {
          "base_uri": "https://localhost:8080/"
        },
        "id": "vdpwtiCE1E-h",
        "outputId": "5ce65d75-69bc-4920-e4b2-a55e6e9c368e"
      },
      "execution_count": null,
      "outputs": [
        {
          "output_type": "execute_result",
          "data": {
            "text/plain": [
              "2"
            ]
          },
          "metadata": {
          },
          "execution_count": 6
        }
      ]
    },
    {
      "cell_type": "code",
      "source": [
        "A[0, 1]"
      ],
      "metadata": {
        "colab": {
          "base_uri": "https://localhost:8080/"
        },
        "id": "DtCOhqAl1IQ-",
        "outputId": "67485a0f-e6de-4409-9da2-855a27227bb8"
      },
      "execution_count": null,
      "outputs": [
        {
          "output_type": "execute_result",
          "data": {
            "text/plain": [
              "2"
            ]
          },
          "metadata": {
          },
          "execution_count": 7
        }
      ]
    },
    {
      "cell_type": "code",
      "source": [
        "M = np.matrix([[1, 2], [3, 4]])\n",
        "M"
      ],
      "metadata": {
        "colab": {
          "base_uri": "https://localhost:8080/"
        },
        "id": "SKZ4vBBR1zLW",
        "outputId": "c447fcf1-d972-4b3c-bda0-4dca5fb9ccaf"
      },
      "execution_count": null,
      "outputs": [
        {
          "output_type": "execute_result",
          "data": {
            "text/plain": [
              "matrix([[1, 2],\n",
              "        [3, 4]])"
            ]
          },
          "metadata": {
          },
          "execution_count": 8
        }
      ]
    },
    {
      "cell_type": "code",
      "source": [
        "A.dot(A) # No: A * A"
      ],
      "metadata": {
        "colab": {
          "base_uri": "https://localhost:8080/"
        },
        "id": "AnX3zBQz122q",
        "outputId": "5a7e0aef-a3a4-4367-ebd6-a0d3ac2f6bdc"
      },
      "execution_count": null,
      "outputs": [
        {
          "output_type": "execute_result",
          "data": {
            "text/plain": [
              "array([[ 7, 10],\n",
              "       [15, 22]])"
            ]
          },
          "metadata": {
          },
          "execution_count": 9
        }
      ]
    },
    {
      "cell_type": "code",
      "source": [
        "M.dot(M)"
      ],
      "metadata": {
        "colab": {
          "base_uri": "https://localhost:8080/"
        },
        "id": "v6AwQQ9c13zm",
        "outputId": "f831da6f-c7bd-41cc-f0c0-4b040aaab992"
      },
      "execution_count": null,
      "outputs": [
        {
          "output_type": "execute_result",
          "data": {
            "text/plain": [
              "matrix([[ 7, 10],\n",
              "        [15, 22]])"
            ]
          },
          "metadata": {
          },
          "execution_count": 10
        }
      ]
    },
    {
      "cell_type": "code",
      "source": [
        "A.dot(M)"
      ],
      "metadata": {
        "colab": {
          "base_uri": "https://localhost:8080/"
        },
        "id": "lji8G6zB16TT",
        "outputId": "88571885-2556-414b-9904-8cfb240da225"
      },
      "execution_count": null,
      "outputs": [
        {
          "output_type": "execute_result",
          "data": {
            "text/plain": [
              "matrix([[ 7, 10],\n",
              "        [15, 22]])"
            ]
          },
          "metadata": {
          },
          "execution_count": 11
        }
      ]
    },
    {
      "cell_type": "code",
      "source": [
        "M.dot(A)"
      ],
      "metadata": {
        "colab": {
          "base_uri": "https://localhost:8080/"
        },
        "id": "ug4SEFpl1-da",
        "outputId": "869c50ef-5cde-47f1-aa8d-4112cd7d80fc"
      },
      "execution_count": null,
      "outputs": [
        {
          "output_type": "execute_result",
          "data": {
            "text/plain": [
              "matrix([[ 7, 10],\n",
              "        [15, 22]])"
            ]
          },
          "metadata": {
          },
          "execution_count": 12
        }
      ]
    },
    {
      "cell_type": "code",
      "source": [
        "v = np.array([1, 2])\n",
        "v"
      ],
      "metadata": {
        "colab": {
          "base_uri": "https://localhost:8080/"
        },
        "id": "M5a8BgvX2BEZ",
        "outputId": "0c56a4ec-626e-42b3-d62c-062f89caadb5"
      },
      "execution_count": null,
      "outputs": [
        {
          "output_type": "execute_result",
          "data": {
            "text/plain": [
              "array([1, 2])"
            ]
          },
          "metadata": {
          },
          "execution_count": 13
        }
      ]
    },
    {
      "cell_type": "code",
      "source": [
        "v2 = np.matrix([1, 2])\n",
        "v2"
      ],
      "metadata": {
        "colab": {
          "base_uri": "https://localhost:8080/"
        },
        "id": "Dq6QsYkd2EX0",
        "outputId": "9fd098ed-346b-4605-edd7-bd0cf5a7c6de"
      },
      "execution_count": null,
      "outputs": [
        {
          "output_type": "execute_result",
          "data": {
            "text/plain": [
              "matrix([[1, 2]])"
            ]
          },
          "metadata": {
          },
          "execution_count": 14
        }
      ]
    },
    {
      "cell_type": "code",
      "source": [
        "v.shape"
      ],
      "metadata": {
        "colab": {
          "base_uri": "https://localhost:8080/"
        },
        "id": "ATM53Z3f2JR4",
        "outputId": "251d5e1f-8c69-4e19-926a-8c5a70172961"
      },
      "execution_count": null,
      "outputs": [
        {
          "output_type": "execute_result",
          "data": {
            "text/plain": [
              "(2,)"
            ]
          },
          "metadata": {
          },
          "execution_count": 15
        }
      ]
    },
    {
      "cell_type": "code",
      "source": [
        "v2.shape"
      ],
      "metadata": {
        "colab": {
          "base_uri": "https://localhost:8080/"
        },
        "id": "S0J70Bau2M4e",
        "outputId": "f40e6e5e-9720-47c9-dc8b-1b35a1048531"
      },
      "execution_count": null,
      "outputs": [
        {
          "output_type": "execute_result",
          "data": {
            "text/plain": [
              "(1, 2)"
            ]
          },
          "metadata": {
          },
          "execution_count": 16
        }
      ]
    },
    {
      "cell_type": "code",
      "source": [
        "v3 = np.matrix([[1], [2]])\n",
        "v3"
      ],
      "metadata": {
        "colab": {
          "base_uri": "https://localhost:8080/"
        },
        "id": "bmKjZKaD2T0Q",
        "outputId": "8e3503c8-5953-4358-c130-23929a02dfc2"
      },
      "execution_count": null,
      "outputs": [
        {
          "output_type": "execute_result",
          "data": {
            "text/plain": [
              "matrix([[1],\n",
              "        [2]])"
            ]
          },
          "metadata": {
          },
          "execution_count": 21
        }
      ]
    },
    {
      "cell_type": "code",
      "source": [
        "v3.shape"
      ],
      "metadata": {
        "colab": {
          "base_uri": "https://localhost:8080/"
        },
        "id": "qYuIK9pW2WxU",
        "outputId": "550bf895-1bce-40ed-90f9-dea1c3ba39ae"
      },
      "execution_count": null,
      "outputs": [
        {
          "output_type": "execute_result",
          "data": {
            "text/plain": [
              "(2, 1)"
            ]
          },
          "metadata": {
          },
          "execution_count": 22
        }
      ]
    },
    {
      "cell_type": "code",
      "source": [
        "v3.T"
      ],
      "metadata": {
        "colab": {
          "base_uri": "https://localhost:8080/"
        },
        "id": "iwCkDpI52eMJ",
        "outputId": "277197ea-215d-43f1-b145-e5da43d70b08"
      },
      "execution_count": null,
      "outputs": [
        {
          "output_type": "execute_result",
          "data": {
            "text/plain": [
              "matrix([[1, 2]])"
            ]
          },
          "metadata": {
          },
          "execution_count": 23
        }
      ]
    },
    {
      "cell_type": "code",
      "source": [
        "v3.T.shape"
      ],
      "metadata": {
        "colab": {
          "base_uri": "https://localhost:8080/"
        },
        "id": "NBOgXhGU2fF_",
        "outputId": "69c789c5-639d-4d53-a7d2-a4a084ed1d4a"
      },
      "execution_count": null,
      "outputs": [
        {
          "output_type": "execute_result",
          "data": {
            "text/plain": [
              "(1, 2)"
            ]
          },
          "metadata": {
          },
          "execution_count": 24
        }
      ]
    },
    {
      "cell_type": "code",
      "source": [
        "v3.T @ v3"
      ],
      "metadata": {
        "colab": {
          "base_uri": "https://localhost:8080/"
        },
        "id": "y00Dy2E-2Xzt",
        "outputId": "0fad8876-3bb7-4abf-acac-0bad6e91679c"
      },
      "execution_count": null,
      "outputs": [
        {
          "output_type": "execute_result",
          "data": {
            "text/plain": [
              "matrix([[5]])"
            ]
          },
          "metadata": {
          },
          "execution_count": 25
        }
      ]
    },
    {
      "cell_type": "markdown",
      "source": [
        "## Matrix Vector Product"
      ],
      "metadata": {
        "id": "CXWpW8MHayVi"
      }
    },
    {
      "cell_type": "code",
      "source": [
        "A = np.array([[1, 2], [3, 4]])\n",
        "y = np.array([-15, 7])"
      ],
      "metadata": {
        "id": "IweW8E2Ixr5_"
      },
      "execution_count": null,
      "outputs": [

      ]
    },
    {
      "cell_type": "code",
      "source": [
        "A.dot(y)"
      ],
      "metadata": {
        "colab": {
          "base_uri": "https://localhost:8080/"
        },
        "id": "RxbMgazvxtHu",
        "outputId": "2c0830f0-12aa-40e7-dbb2-93122244134a"
      },
      "execution_count": null,
      "outputs": [
        {
          "output_type": "execute_result",
          "data": {
            "text/plain": [
              "array([ -1, -17])"
            ]
          },
          "metadata": {
          },
          "execution_count": 27
        }
      ]
    },
    {
      "cell_type": "markdown",
      "source": [
        "## Neural Network Layer\n",
        "![neuralnetlayerdiagram.png](data:image/png;base64,iVBORw0KGgoAAAANSUhEUgAAAZAAAAD8CAYAAABZ/vJZAAAygUlEQVR4Xu2dCXwT1drGT5O0TdrSsgnIJqCConyuiIh+4nK5KirgyiaioCiKCoqIG+4fKm7odQG9bldEUVEEqogXxMoiggoWdyi7ikDZvF5U5nufDGj7TilJm2QmyfP//Z4fmlPSmRPe5+Q8M3OOMYQQQgghhBBCCCGEEEIIIYQQQgjxPDVFnUQDRQ+I3hR9JlqWkZFRItou/22J/ovXdgrtE0WjRJeLThLlG0IISTzwHngQvAieBG8Ke9hOwbsseBk8bedraIfXwfPgffBAeCHZA7VFF4ie9AUCS/yBwLYmzVp8d9xJpxRfPHDI1yMfe3bthGlzd0yZXWxBC5aVWp+u2GJ9snRj+P+h8e98tP6uB8d83bPfwIVHdej4Sb36exf7fL5t8p6fih4VnS/KK/tLCSEkRsBb4DHwmk/hPfAgeBE8Cd4Ej9rlV/AueBi8bNdr8Dh4HTwP3gcPhBfCE+U9nzS2R8IriVBX1M/v908PBDK3HnJk++8HDbtt9fjCj6yFyzeHO7e6wofzwqR/r79o4OBFTZvvt1g+1E3yO98Q9RTllj8cQgiJCngIvOQNeAs8Bl4Dz9n1Jbe6ghfCE+GN8Eh4JTxTfmc/Y3to2nGEdMCLmZlZW9sfd+Ly+5948de53/zk6Lh4qGjJWuv6O+7/psX+B2B2st7YU8Vm6vgIIaQymokegIfAS+Ap8BbtN/EQvBKeCe+Eh8JL5ViOUMeXkpyWlRWcX1Cz1sarht2+edYXqxydk0i9+/HX2zt3O79YRvSNcmyviQ7SB0wIIWWAR7wGz4B3wEO0ryRS8FB4KTwV3irHdpo+4FSgXTAYmtOgYeMND44Z9/uCkk2OjnBTGNEvH3LTMhnNMSMZK2qgT4AQktbAE8bCI+AViUpMIhU8Fd4Kj4XXyrG20yeQjNTLzg69nl9Qc9Pto57Y7rWBQ6toyRrrrJ59l/oDAcxIrhP59AkRQtIKeMB18AR4AzxC+4aXBI+F18Jz4b1y7PX0CSUL3bOyQxv7DLh667zvfnacqJc1ZfaS31vs32qF3++fLefRQp8YISQtaAEPgBfAE7RPeFnwXHgvPFjOo7s+MS9TEMzJndqoSbPScVM/dJxYsgh3Plx94x3rZMqKD6CvPklCSErTF7UPD4jVHaFuCB4ML4YnyzkV6JP0Gq2DoZwV5/Xpv3X+0g2Ok0lGTZy58I9adfdaJ+f2oMivT5gQklKgxh9EzaP2tR8ko+DF8GR4s5xba33CXqFrdjC0+a6HxyTVVC8SfVi82jr4kCN+DGRm4t5rPtlOSGqSjxpHraPmtQ8ku+DN8Gg5z676xF3F7/dfnF9Qc8vLhUWOg04V4aGgLuddsF6mtQtNEkwFCSFRUYDaRo3H6gFALwoeDa+GZ+sOcAWfz3dFrTp1t0ya9bnjYFNR5/S+eGNWVjaWRuEgQkhqUICaRm3rek9Fwavh2fBu3REJRQ7gyrp71d8ydU6x4yBTWedecAlukcMgEtJ9QghJKkKoZdS0rvNUFjwb3g0P1x2SKM6okV+wpXDOEsfBpYP+1rlbqXxrwX3WxNscKHrW8JkeUgGoYdSyru90ELwbHi7dcIbul3hzGC7GvDT5A8dBpYtwn/X+Bxxc6gsERujOIZ6hluhzYy/7zzvoSDlQu6jhZHtOLZaCh++8sH6Y7p94UTsYDP2Ix+b1waSbpi/83iqoWQudjzX7ibdoKVpk7MGDAwjRdELtooZ1Xaeb4OXwdJOIZeJlyjfxvAsv2awPIl01ZvzkHcFQzk+GF9W9xC2iX0RrRVhgjgMIKUsBaha1q+s5XQVPh7frjoo1FzRs3HRjOk/5KlK37hduC+XmjdOdRVyjRPSMsfdK+KfhAELKgFpFzeo6TmfB0+Htxt6wKi7Uy8zMKn313TmOX57umv3Vj1aduvVwMaqj7jTiCvXL/DcHEFKWjqhV1Kyu43QXvB0eb+KxAKPP73/ynF4Xr9e/lLJ17+PP78jNq/GFdFWG7jviKhxAyC4yUKOoVV2/lC14PLxed1x1OTA7mLPpg8UrHb+QsoUF15rv1xIX1M/WnUdchQMI2cXZqNFkXhwx3oLHw+uNfft7bPAHAm9dM/xOXjjfg5546S0rNy9vueEsxEtwACEgA7WJGtV1S5UXvB6erzuwqjTPyg5u9toOXF5Vk32aY/Q+UXcicQ0OIASciNrU9Uo5Ba+H50ufNdedWBVGndO7/xr9S6iKNfzuh3bUyM+fojuRuAYHEGJQk6hNXa9UxYLnS7eN0v0YLSFs5Zhua11VR0VL1lrBUM5/TPk7gYh7cAAh9VGTqE1dr1TFgufv3Nq7Wuv9dWm2X8ul+s2pynXiqWdi+tdfdyZxBQ4gpD9qUtcpVbng/dJ3XXRnRsPTVw69dZV+Y6py3f3I01ZBzZrTdGcSVxgmmmG4mGLaglpETeo6pSoXvF+672ndn5GS4fP7f5r80RfMDaPUjM9KrOzsIJbSyNSdSghJKJmoRdSkrlOqcsH7MQaYKt5V2iavRv5q/aZuC/8Qpswudshr12maNt8X+eHRulMJIQnlaNSirk+3Ne/bddaDY1+2rrx+hDXsjlHhVXH1z3hBGAOkD9voTo2E3m0Oa/uFfkO3dcTRx+5aXbWcsoMhx8+6qVPOPBe38/I6CCHu0h+1qOvTTWGwqL93o7Bv1apTFyYd/u//PekUa87X3lpiBWOAHFtv1acRcV+vflcs0W/opvAEKTr7wIMPtS4bfGM5XTH0VsfPu6khN9+zIzsUekx3KiEkcaAGUYu6Pt0SBoh6DRpiGwjr6VcLw699snSj1e/K68KDSNfufRx/x01hDJDjuk/3ayQUjnrqJU9FWG8XLQ538uCb7nK0eU2P/+tNKz+/YK7uVEJI4kANohZ1fbqlex9/PuxhQ26+29F2wEGHhJOUBSWbHG1uCWOAHG+h7tdI+Hz8O7M9tdXjA2PGhTt/zPgpjjav6bXpH1u5NWos051KCIkL2H3SAWoQtajr0y298s5sa9Cw26x35n3laPtb526Wz+ezPv5+vaPNLWEMMPaunlFTMnXOl57adfCSq4dZGRkZ1j9eeMPqev4F1pHtj7M6n9XDevaN9xw/67bwDySUk7tOdyohJC7g4d1JomPLvogarMisvaaJMxZiHb2wp+k2N4UxwNj760SHGHXph8WrHW/opo4/+dTwDCQQyLQOb9fBOqpDx/CUD6P2Tfc87Ph5N1W0ZA3W1setvISQ+LPD2DfUYCDBTpQ3iWqjBlGLuj69JMyQ6tZrYOUX1LRef3++o91NYQzAWFCupyPktwXLSh1v6KaO6fg3q9m+La03Z37652uFc7+0mjRrgcfurbc/XOT4O24JfScdv+sfNUVR8VXZWtu688/NqMH533knEtJ664PPrJq161i16+xlvVxY5Gh3W/Ax6cffTBXYKKOPZ+5eqEwjH3s2/A/n6uF3OtrcEr71+P0BfBsqNvb2qtVaU4YQUikwOUTGn4q+EeE2+k2oQS/PQDqc0Cmconht5rFLGAOkH/FMW9SUTJ1dvFW/oRf1xr8/CQ8gPS663NHmlpC7BkM5eIozV/S8aJGoVbkeJoTEAixcigFjm/lrJoL4uA9q0KvXQHC3VWZmltX5rO6ONq8IY4CpyjUQ4bOXpxb9oN/QLeEJdDzv8ehzrznanps4PTyADLz2ZkebW0KuGcrJ+b5Mf/YT/SjqUeY1QkhseFGEL2zwgp9Fz+FF1KCX7sIqKzwTgovmN48c7WjzijAGSDd+9lc3R07hPaOfWaTf0C199OUP2OTEanXQ/4QfKCzbdk7vfuEBxEvLAfzjxYlYD2um6lMsCfCVCHsOB1UbISR6EA0jIkZUPF+0QvSdKAeNqEHUoq5PKjJhDDBVfA7k3q7d+8zWb+imLrj0qvBAcfrZPcOx1aRZn1v9Bw0N39p7WrfzHT/vpgbdcNsWOdaHdKcKeaJxxs5q91NthJDIQSQMg0NEjKh4X2PP8svu5/0QalHXpxeEG4AwA8FT6LrNK8IYIH14b5n+jJhe+7dq/bF+QzeFOwJ6XjwwnBuanXdc4O4rzEC89PANdHynztjRC7HV7hhg7H/s5+oGQsgeQRSM+tE1pjdy64da1PXpBeHZDzm+8OMJus0rwhggx9hL9WlEHCTTv+X6Db2gWV+sssa+MjWsmZ8vd7R7QfX3boR/3G11pyoOFX0relSUpdoIIU4Q/SICRhQcySqxbVGLuj6pyIQxQPrwIN2pkYA14Fe+MWPBT/pNqco1fcF3mBnhrpCA7tQKyBe9KvrExGgTe0JSFES+iH4RASMKjoQAahE1qeuUqlzwfum/laaK+4GAJ3r0vWyefmOqct0y8tFtPp/vFd2Ze+BKY0/Ju+oGQkg46kV9IPqNCtQialLXKVW54P3SfU/o/oyGU2vXrVes35iqXEe064A7QfrozoyAI0XYhxgX37mbISF2tIuIF1EvIt+q0Ac1qeuUqlzwfum7U3VnRgM+vDUTps1jjBWh8LyKTJk3m92sDhoBBaKJIiwF31S1EZJOINJFtIuIF1FvVamFmuS2tpELni/9hhuBqn1tdsRRHTrO17+AqliXXnMDptm4L726DBbhIZ7TdQMhaQCiXNQSot1Y8AxqU9crVbHg+dJnI3QnVoX6Pp+v9IPFK7brX0KVF5YmyKuRj6dgEUXFgnbGXkYAO4JFckGekGQH0S0iXES5saojcCRq00ubNXlV8Hp4vnHeEl1lxv79jLMX6l9EldeI+x9b7/f7P9KdV01qi94WFYkaqzZCUglEtohuEeEiyo0pqE3UqK5bqrzg9dJdY3X/VYcGMiKtn/TB50mxuKIbmvfdz9gQBrOPY3TnxQDcRjfU2PscnKLaCEkFENUiskV0Gy+OQY2iVnX9Urbg8fB66asGuvOqy/CWrdvwjqzdaMA1w9dkZGTgm1M86SDCgz13i/yqjZBkBNEsItoSY0e2cQU1ilrV9UvZgsdLNw3X/RYLgtL539750FO8HU5pctHi3wOBTKyZ31J3Whyoa+zFzWaKGpZvIiSpQCSLaBYRLaLaRNAStYqa1XWc7oK3w+NNHBd6PdIfCPxcOPdLXlDfKVyUa7xPC8wK4jn11iDSulG0WnSyaiMkGUAUi0gW0WyVn3SuIoNRs7yg/pfg6fB2E9sbFyrk+sZNmy312na3bqnfoOtWyqg9wyS+CMDxxl5q4HbDSIskB/h3iggWX7oQybpBBmoWtavrOR0FL4enS79crzsqHvik86d27HT6Un0g6aZHn5uwwef34151Nx/4qyd6T/S+ieFtd4TEAUSuM40dwSKKdZOmqF3UsK7rdBO8HJ4ufeLTnRQv8nw+38I+A65epQ8mXTThvbn/CQQycbdCPO66ihZ88HjoZ5XoBNVGiBdA1IrIFdGrG7P1ijgGNYxa1vWdLoKHw8tN5ItTxoz6MoKXDL3tvnX6oFJdhXO//C2Uk4NbDr22Pe1Jxh5EbjYJ/DZBSCUgskLEiqgVkavX6IFaRk3rOk91wbvh4cbF5GJff2bmioFDbkqbtbImFy3enpObi9jqKt0ZHmFvEa7JvCvaS7URkkhgTIhWEbEiavUqV6GmUdu63lNV8Gx4t7F3cXSVhjIN/KrHxZel/EzkzRkLfw2GcrDI2KW6EzwGvvXdaez9oY9TbYQkAkSpmA0jWk2G2fClqG3UuK77VBO8Gp5tPPQYQJ1AZubH7Toc/2PRkjWOA04F4WLbzmsevfXJe5hOxl5R8wbjndyZpDYYLBChYvBApJpM9EaNp+qFdXgzPBpeLedaR5+822T6fL7HatWpu/7VaXMdB5/MuujywSt8fj+M2K3bDqtDI9Es0RTjwX80JKVAZIroFBEqotRkpANqHTWvfSCZBU+GN8Ojjcf3GuqelZVdOuj627Ym+7Mi78z76o+WB7bBLW6zTfIWBMByESONfe99e9VGSCxAVIrIFNFpsj+TtDdqHrUPD9C+kEyCB8OL4clyXt31iXqV5tnZwX832af5hnFTZjlOKhl07S3/98PO5UmwLkyqLKV+mrGf/r1WNxBSRRCNIiLFDB2RaaqAmh8OD4AXaH9IBsF74cHwYmNvzpV09MzKCq4/pcu5pVPnFDtO0Isa88qUXxo1abbC7/fPkeM/QJ9QCtBEhBnVW6Kaqo2QaEAkimgUESmi0lTkAHgBPAHeoP3Ci4LXwnPhvXL8PfUJJRsFvkDgjqzs4JZu3S/cMm3+N44T9oLGTS3a3qp1m+U+vx+P9OP5jlS+6IxvV6NEy0RtVRshkYAoFJEootFUmaHvDnhBD3gDPAJeof3DC4K3wmPhtfBcE4c9VdykTmZm9iiZTm099oROpU+9/LajAxKt+Us3WHePfmZL0+b7rvT7A3hKdoDx+AWmGHOmsbcN9eozLcSbIAJFFIpINJ2ANwyAV8Az4B3wEO0riRa8FJ4Kb4XHmhS/WSZXNCCvRo1v6jVouPmSq4Ztf7mwyNEp8dLC5Zutf74+DSP1qlBOTmmG348HnbD/crJf+KsqzUS4re91k2LfWEjMQeSJ6BMRKKLQdAVe0RXeAQ+Bl8BT4C3ab+IleCa8Ex4KLzX2l194a1rRNisr+/7cvLzVNWvX2XJ2r4t+ue+JF6zCOUscHVYdvf3hIuuuh8duP7lzl9XBnNxNmZlZi+V332oSs39HMoBvVo+IvhcdrtoIAYg6EXniG26qR1bRAA+5FZ4Cb4HHwGvgOdqHqiN4IrwRHgmvhGfCOw0j6D9pJbo2v6Dg3VBO7sa8/IJt7Y7tuOH8Cwf8Muz2+63Rz71mvf7+fGvK7OKwdo32+HPXa2h/5NkJ1tARI//brUffnw9r235NdjC0RaZ2P/j9/gny/oOM/Y2bVMzZxo60BuoGktYg4sS/C0SeZPc0Ew2C18Bz4D3wIHgRPAneFImHwevgefA+eCC8EJ4IbzR2fAivJHsAU2RES0OCOTlP5deqNSsnN7dE9JOMvusyMjL+kDYLf+L/g8HQWplOLgsGc7Duzmhjb/DUxXjocf0kAWvjLBCNF9VQbSS9QKSJaBMRZ7PyTSQC4D3wIHjRaHiT7VGhtRV5GLwNHgevg+dJ2xBje2A6x4UkCckWPS76WnSIaiPpAaJMRJqINtPpxhJCSIw439jRxSW6gaQ0iDDxuSPSJISQKoOLhJ+J/mVc2HSGJBREloguEWG6vsw3ISQ1CIrGiJaIDlZtJDVAVInIEtElIkxCCIkpWMoe0UZf9TpJbhBR4nNFZEkIIXHjQBGeo3lWlKPaSHKBSBLRJCJKPhNFCEkIGDgwgGAgwYBCkg9EkYgkEU0ioiSEkITS19jRRzLt0kj4uRFCPAK/ySYPnDkSQjwHs3Tvw2tXhBBPw7t5vAnvniOEJAV8nsA78PkdQkhMScTT5Hyi2X0qWkGA+70QQqJmH9Ek0X9FlmilsVf69JX9oTjANZXcoewaZvjssZXBNmN/9r+KJov2//OnCSFkN+BbZ4loo+g60emiZ4xtJnf/9WNxg6u6Jg69ijJ2EFwh2iQaLjpRdL2x/y1ggOFWB4SQShlq7MGis3odm9P8YhITaXFfifhT0T4uw0zFn/3JO18fqV4nhJBynCp62DjjqnuNbSKJvEbBne3iw+52knxA9K1xfvb4/9+Nvb85IYRERa6xnwlYbRIfK3Fv7dhR1b3sEW/hywPiLkIIiYjjjT3zwEV0fGM9rnxzwkA2j2+/sw2366wqzYwdCSIajObuqgxRoWiH6GjVRgghu+U+Y39b3SpaLupXvjnhXCtaKzpNN5BKQQSILwCIBKNltLFnH4i3CCEkavKNfVsvjOQ81ZZo2ht7MMMFXUZalYP+QfSHCBBRYDTg7/7T2J/5c8Z5XYQQQiKmnrEvpE7TDS5QRzRFNEvUSLURG0R9iPwQ/SECjAZEXNONPXhgFooYixBC9giue3TVL+5kg2ihftElYGo3iNaIOqm2dAcRH6I+RH7R0kBULPpNdKlqI4SQSsEM4z+iWup1PImMC6nj1Otugwv7ePjtTpFftaUbiJ0Q7SHiQ9QXLVh1d5GxP3/9LAghhOyRs4wdXWA5C1z7AI2NfQcPvpVGm6Ungr2M/aDjDNHeqi1dQJSHSA/RHiK+qoC4Cp/906KOFQi38xJCSKXcKvrD2E+e4wIsBo4txv0L6JWBi7w3i1aJTlJtqQ4iPER5iPSqer0C/Vdq7AFkd3rvz58mhJBKQGSFBRRHGPv23brlmz3LCcYeRHDcqX7nECI7RHeI8Kr7jA7eq+MexBkIISTlqS9639jfmHH3WCqCqA6RHaI7RHiEEEJiBL5R327sp+hxZ1kqgYgOsyxEdqk+yyKEENfASrJYw+tGU/XrA14BgwWiOQweiOoIIYTEGexjMdPYazoly7UcDaI4RHKI5hDREUIISRCItLAhFp6R6KDavA4iOERxiOTS/VkXQghxjVOM/ZQ2Ns7yeqSF40P0hggOURwhhBCXwYORRaK3RbVVm1dA1IbIbabhVrKEEOIpsOwHnrwuEbUr3+Q6iNgQtSFyY2RFCCEe5XTRD6LBusEFEFkhWkPEhqiNEEKIx2kqmiuaaKLbrS+WIEpDpIZoDREbIYSQJAH7hT8kWio6UrXFG0RoJcaO1LhJFiGEJCnYCwXbv16pG+IEojNEaIjSCCGEJDnNRZ+IXjV/LWkfaxCVITJDdIYIjRBCSIqQJXpU9K3oUNVWXRCRISpDZIbojBBCSApyrrEjrQG6oYogGsP77W7bYEIIISnEfqJPjb2db55qixREYYjEEI0hIiOEEJImBEVPir4StVFtewIRGKIwRGKIxgghhKQhPYwdQWGXxkhA9IWfRxRGCCEkzWklWiR6XpSr2naBqAuRF6IvRGCEEEJImJDoGVGxqLVqQ8SFqAuRF6IvQgghxEEfY0dU+BMg2sL/I+oihBBCKgUzkC+NfaH8C2NHXIQQQsge4QBCCCEkahhhEUIIiQpeRCeEEBI1vI2XEEJI1PBBQkIIIVHBpUwIIYREDRdTJIQQEjVczp0QQkhUcEMpQgghUcMtbQkhhEQNoiVETIiaEsFg0Q+i03UDIYSQ5ABREiIlREuImBJJO1GJ6D5RoHwTIYQQL4MICVESIiVES25QW/S2qEjUWLURQgjxIIiOECEhSnKbDNFQ0VrRKaqNEEKIR0BUhMioxNgRkpfoIFouulvkV22EEEJcBBERoiJERoiOvEhdUaFopqhh+SZCCCFugGgIERGiIkRGXgbHd6Notehk1UYIISRBIApCJIRoCBFRMnG8aKXodsNIixBCEgoioJnGjoQQDSUj9UTvid4X1VdthBBC4gCiH0RAiIK8HlntCZ9ohGiV6ATVRgghJEYg6kHkg+gHEVAqcZKxB5GbjT2oEEIIiRGIeBD1IPJB9JOK7C2aIXpXtJdqI4QQUgUQ7eDbOaKeVP92jlnWnaIVouNUGyGEkAjBYIFIB4MHIp50opNojegGk/zXeQghJKEgwkGUg0gH0U460kg0SzRFVEe1EUIIqQBEN4hwEOWk+zMSWJ5lpLGfdWmv2gghhOwEUQ0iG0Q3iHDIX5xm7Kftr9UNhBCS7iCiQVSDyAbRDXHSRDRb9JaopmojhJC0BNEMIhpENdx8qXLQP6NEy0RtVRshhKQViGQQzSCiIZFzprG36b1KNxBCSKqDCAZRDCIZRDMkepqJPha9btzbdZEQQhIKohdEMIhiGFlVD+z7/ojoe9Hhqo0QQlIKRC6IXhDBkNhxtrH7daBuIISQZAcRC6IWRC7NyjeRGLGvaIFovKiGaiOEkKQE0QoiFkQtiFxI/MgWPS76WnSIaiOEkKQCkQqiFUQsJHGcb+x+v0Q3EEKI10GEgigFkQqiFZJ4Woo+E/1LlKfaCCHEkyA6QYSCKAWRCnGPoGiMaInoYNVGCCGeApEJohNEKMQ79Db259JXvU4IIa6DiARRCSITRCfEexwoWix6VpSj2gghxBUQjSAiQVSCyIR4FwwcGEAwkGBAIYQQ1+hr7GgEEQlJHvoafm6EEJfgN9nkhzNHQkjCYZaeOvDaFSEkYfBuntSEd88RQuIGnydIffj8DiEk5vCJ5vSBKwgQQmIG11RKT7iGGSGkynBVV8JVlElSg61Ou4qGBHNynsqvVWtWTm5uiein3Ly8dRkZGX9Im4U/8f/BYGhtKCdnWTCY8568Plo0WNRF1LDMe5I9w30lyC64j0v1gPfAg+BFo+FNtkeF1lbkYfA2eBy8Dp4nbUOM7YHc9jkCWomuzS8oeDeUk7sxL79gW7tjO244/8IBvwy7/X5r9HOvWa+/P9+aMrs4rIXLN1ufrtgS/nPXa2h/5NkJ1tARI//brUffnw9r235NdjC0JTs7+IPf758g7z/IsBAqgzvbkYrgTpKR0Uw0CF4Dz4H3wIPgRfAkeFMkHgavg+fB++CB8EJ4IrxR3v9aY3slEdpmZWXfL6Pv6pq162w5u9dFv9z3xAtW4Zwl4Y6Nld7+cJF118Njt5/cucvqYE7upszMLDzHcKvhve+74N7aZE9wL/uKgYfcCk+Bt8Bj4DXwHO1D1RE8Ed4Ij4RXwjPhncb+XNKKXNGAvBo1vqnXoOHmS64atv3lwiJHh8VLGO3/+fo0q1v3C1fJdLI0w+9/39jTRL86znShmbEjCkQViCwI2R01RW+JZpv0jlXgFV3hHfAQeAk8ZdeMIhGCZ8I74aHwUjmeAcb21pSlTmZm9iiZ2m099oROpU+9/LajUxKt+Us3WHePfmZL0+b7rvT7A6uN/SGk0wVDRBKIJhBREBIpiFHWik7TDSkOvGEAvAKeAe+Ah2hfSbTgpfBUeCs8Vo6xjj7wZKbAFwjckZUd3CIj9ZZp879xdIAXNG5q0fZWrdss9/n9S+WYe4gy9ImkEIgg8A8NkUTaTYFJTGgvWi4aaVI/0oIX9IA3wCPgFdo/vCB4KzwWXgvPNSmQKPTMygquP6XLuaVT5xQ7TtiLGvPKlF8aNWm2wu/3z5HjP0CfUAqA6AERBKIIRBKEVBV8050imiVqpNpShQPgBfAEeIP2Cy8KXgvPhffK8ffUJ5QMNJfp1L+b7NN8w7gpsxwnmAy69pb/+yEQyNwo5zLcpM43LEQOiB4QQRASC/Dt/AbRGlEn1ZbMoOaHwwPgBdofkkHwXngwvFjOpbk+Qa/SPSsru3TQ9bdtXbCs1HFSyaR35n31R8sD2yzNyMjAN/a99YkmESgGRA2IHBA9EBJrjhOtEN1pkv+GlL1R86h9eID2hWQSPBheDE+W8+quT9RLZPp8vsdq1am7/tVpcx0nksy66PLBK3x+P75hddAnnQQgWkDEgKghpS6uEc+xlwjPKswwyfuFqwNqHTWvfSCZBU+GN8OjjQdvFKoTyMz8uF2H438sWrLGcfCpoEefm7BBprPIFJNpFzdEChj4EDGk8k0BxDv4RDeLVolOUm1epzdqHLWu6z8VBG+GR8OrjYe+TDaUTv+qx8WXrdMHnGp6c8bCX4OhnJ/knC/VneAxECEgSkCkgGiBkERzgrEHkRHGHlS8zqWobdS4rvtUE7wanm08sMzTvv7MzBUDh9z0kz7IVNXkosXbc3JzvfzsBKIDRAiIEhApEOIW9UV4UBfr09VTbV7iKtQ0alvXe6oKng3vNi4u21/f5/eXDL3tvpSfeWgVzv3yt1BOzg/Gfl7ESyAywLc+RAjJ8K2PpD6YDd8uWik6XrV5gR6oZdS0rvNUF7wbHm7sgT6h5Pl8voV9Bly9Sh9UumjCe3P/s/OayDG6c1wAgwWiAgweiA7IX2B5BzzT84JuIAnlZBFWe7jReOd63DGoYdSyru90ETwcXm4SuFmcLyMjY2rHTqcv1QeTbsLFNhnBEWc11Z2UQBANICJAVJDwbxJJALbitYwd6RF3QeY+U1Qoqlu+KeE0Re2m6gXzaAQvh6ebBKUW1zdu2mxpsj/jESv1G3TdSul8XHNw41sVIgFEA4gIkv3e+3iAtb6w58J2wwHEK+Df6d3GfibJrdviM1CzqF1dz+koeDk8Xfrlet1RseZIfyDwc+HcL9PmYtOetKBkk9V4nxYoBmwakygwWCEKQCSAaIA4aSDCHXNY8wtP33MA8RanGPtzGWoS/+VrMGoWtavrOV0FT4e3S98cqTsrVgRl1P72zoeeSqkHbGKhyUWLf9+57Eki9hfB1B8RwEzjgdvwPAwenFxk7O15OYB4k8aiItHbotqqLV60RK2iZnUdp7vg7fB46aOg7rRYMLxl6zbF+pdStgZcM3yNdP5E3WkxBlN+zHYQATCy2j3YUfFX89d+7hxAvAuW2blPVCJqV74p9qBGUau6filb8Hhjr/8XUxr4fL71kz74fKv+hZSted/9bOXm5WEKGI+7sjDFx1QfRoipP9k9WEF5m2hYmdc4gHif00W4NT6eUfAxqFHUqq5fyhY8Hl5v7Ag4Zoz9+xlnL9S/jCqvEfc/tt7v93+kO6+aYGqPKT6m+pjyk92DNX4+MfbaX2XvKOEAkhzgbsa5IszkY76XBWoTNarrlioveL1011jdf1WlvoxIpR8sXsEL53sQLsrl1ciP5YUoTOlLjD3FT5Ul5eMJnoXBXVd9RR3LCN+osP4P/jtplrVOU/Al4CER7gqKVR2BI1GbvHC+Z8Hr4fkmRo8FjDiqQ8f5+pdQFevSa27AcyHP6E6sApjKY0qPqT2JDOzrjmc+KhPWCCPep6uxt1u+UjdUkWdQm7peqYoFzzf2F7JqkSVaM2HavLRZ66q6mvFZieUPBDZLv9XSnRkhmLpjCo+pvJsPKCYjB5nyM49d4gwkOcFnhUjyVVG+aouGWqhJ1KauV6piwfONvZI3xoAqc2rtuvV451WUOqJdhxXSd310Z0YApuyYumMK77k1+5MYXgNJXmBgj4pwe+mhqi1S+qAmdZ1SlQveL313qu7MaHiiR9/L5uk3pirXLSMf3ebz+V7RnbkHMFXHlB1TdxJbOIAkP+cauz4G6IY9gVpETeo6pSoXvF+67wndn5GCW0dXvjFjAeOrKDV9wXeIsTaZyC58Y2qOKTqm6oxX4sN5or/pF0nSsZ/oU9E4E/nifwHUImpS1ylVueD9xl4qqUorBRyUnR1crt+Uikz1926Eb0ttdacqMCXH1BxT9GpljYSkCXhK+kkRNkRqo9oqoi1qUdcnFZkwBhj72mLU9Nq/VeuP9Ru6pQfHvmwNGnab4/Vdem7idKtXvyusrt37WMPvetCa9cUqx88kUsd36owLUP10p5YBU3EMMpiaE0KiA3vxoH50jelbT/uhFnV9uq2nXy20Op/V3Tqy/XG448nqd+V11nuffOv4ObeFMUD6sJfq04i4V8x4tn5DN/TKO7OtGvkF1uFHHeNog6664fbwLZqNmuxjHXrk0VZmZpbVoFETLBDm+NlEadANt20x9sVwDabemIJjKo4pOSGkarQy9npnzxt73xfsrodB5cAyP/MQalHXp5saetu9VkZGBlIK67w+l1h/P/McKysr26pZu4414b15jp93UxgDpA/vLdOfEVN4z+hnFuk3TLT+8eJEq6BW7fAAUdEAMr7wI8vn81mndj0vvCwxXnv13TnhAefYE//u+PlECcct07+Zqk8x5cbUG1PwuCxYRkiaETL2c1e4YwjPLiCz/06Ug0bUIGpR16dbwpdafME98OBDrdlf/fjn6/98fZoVCGRah7Vt7/g7bgpjgLEXb42az16eWvSDfsNE6aMvf7BO63Z+eKRu/T+HW7Xq1K1wADmnd7/wAKKnf5dcdX34707+6AvH30mEXpv+sRXKyfm+TH9iqo1vR17bBpeQVOBF0TpjPyyKP5/Fi6hB1KKuT7d0w50PhL8M3/v48442fOGFZ3lprS6MAXK8n/3VzZFTMnV2sWuLJ06a9TkWJ7QGXneLNX/phnA8VdEA0ny/Vtb+BxzkeP2p8ZPDH9TNI0c72hKhd+Z9ZQVDObiLAVNrTLExkmPKTQiJLbjugbsesYjmDmMPIr+I+qAGUYu6Pt3S3G9+sibOWFBu9rFL7Y49AV86w0si6Ta3hDHA2MspRc3GD4tX79BvmCiho8teCN/dAJKVHbQ6durseP3tDxeFB5C+l1/jaEuEipassfz+wH+MPbXGFBtTbUJIfPjN2DMPXFv8xtgDyibUIGpR16fXdPsDT4b96twL+jva3BTGADku7HUUNb95advaigaQed+uC3d657N6OH7+/U+XhtvO7nmRoy0RQt+Zv74NURQVX5WtNXxrxp+bMzIydsz/br2jPr0k3DWKGB7XP+Z87ZyZuKmdPobBOTqk40tl9HG8oVuqaADBLEUO1Trz3F6On5/5+fJw21k9+zraEiF868nMzMI0mhASf3YNIJj1Y+WBm0S1UYNenoGMeuql8HWPY44/2XODB4QxAGNBuZ6OkJKpc770zLaPFQ0gkM/vx/r1jteRe8o5hJ8N0W2JEH5/KCcXU2pCSPzBwDFJdGzZF1GDXroGorVvywPDjxzgy7Bu84IwBpgqXgP5fPw7s0v1G7ql3Q0gDRs3tQ5v18Hx+ouTZoYHkME33eVoS4Rw50dujRrLdKcSQuJChatfowa9dBdWWX38/frw7KN73wGONq8IY4B04+e6XyOhUKZXq/UbuqXdDSAnnXomNnH68xmQXbrpnofDA8iY8VMcfycRevxfb1r5+QVYkp0Q4hKoQdSirk8vCLfrXjb4xvAdo7rNK8IYYKr4HMh9vfpdsUS/oVva3QAy8h/PhQeKW+997M/X8MHsf+DB4Sc9P1m60fF3EqEhN9+zIzsUekx3KiEkcaAGUYu6Pr0gPJ4wZXZx+IYf3eYVYQww9o6oUdO7zWFtv9Bv6JZ2N4DgnmlEWHiKs3f/K8Mzj4MPPSJ8V8OoJ//l+PlE6ZQzz8VthP11pxJCEkp/1KKuTy9o4oyF4S+/x598qqPNK8IYIMfYW3dqJLTJq5HvmQjrlC7nWj0uutzxOlS0ZK3V8+KB4eshGEgwgDz09HjHzyVSTZvvi3unj9adSghJKEejFnV9ekFY1gSLKWIhRd3mFWEMMJGteuwgw+f3/zT5oy88Of3zsrB1ZnZ2ELfwcldBQtwlE7XI7WyjF7wfY4Cp4n4g4Okrh966Sr8xVbnufuRpq6BmzWm6MwkhiQe1iJrUdUpVLni/dN/Tuj+joUuz/Vou1W9MVa4TTz1zs+H1D0K8Qn/UpK5TqnLB+6XvuujOjIaQPxDYOHVOsePNqYqF6zHBUA4eatIb2xBC3KE+ahK1qeuVqljwfHi/icEafqPO6d3fczt6eVXD735oR438/Cm6Ewkh7oGaRG3qeqUqFjxfum2U7seq0DwrO7jZq4/ae01N9mmO23dP1J1ICHGVE1Gbul4pp+D18Hzps+a6E6uETGXeumb4ncwQ96AnXnoLe5hgE/oq37VACIkLGahN1KiuW6q84PXwfN2B1eHA7GDOpg8Wr3T8MsrWwuWbreb7tcSofbbuPEKIJzgbNYpa1fVL2YLHw+tN+X3lq4/P73/ynF4Xr9e/kLJ17+PP78jNq4GnNjn7IMSbZKBGUau6filb8Hh4ve64WFAvMzOr9NV35zh+aboL21PWqVtvi/RRR91phBBP0RG1WtGWsukueDs8Xvqonu60WHFBw8ZNN3pp03cvqFv3C7eFcvPG6c4ihHgP1CpqVtdxOgueDm+X7rlA91dMycrKnnjehZfwgvpOjRk/eUcwlIPH/Qt0XxFCPEkBaha1q+s5XQVPh7frjooHtYPB0I8Pjhnnmd0K3dL0hd9bBTVr4cJ5J91JhBBP0wm1ixrWdZ1ugpfD06VPautOiheHZQdDm1+a/IHjYNJF4T1HDji41BcIjNCdQwjxPqhd1HA6R/LwcHi5dMdhun/izRk18gu2FM5Z4jiodNDfOncrlSnf67pTCCHJA2oYtazrOx0E74aHSzecofslIfh8vivr7lV/S7qtlXXuBZdsys4OfWpisE4MIcRVQqhl1LSu81QWPBveDQ/XHZJQ5ACuqFWn7pZJsz53HGQq6pzeF2+Uby0YPHjRnJDUoAA1jdrW9Z6KglfDs+HduiNcwe/3X5xfUHPLy4VFjoNNFS1YVmp1Oe+C9ZmZWQsNBw9CUo0C1DZqHLWu6z9VBI+GV8OzdQe4TVdcjLnr4TEpd3fWh8WrrYMPOeLHQGbmdDnPfH3ihJCUIB81jlpHzWsfSHbBm3deMO+qT9wrtA6Gclac16f/1vlLNzhOIBk1cebCP2rV3WudnNuDIr8+YUJISoEafxA1j9rXfpCMghfDk+HNcm6t9Ql7jYJgTu7URk2alY6b+qHjZJJFWHDt6hvvWCfTWjyd2VefJCEkpemL2ocHJPPii/BgeDE82SRZ9N49Kzu0sc+Aq7cm233WU2Yv+b3F/q1W+P3+2XIeLfSJEULSghbwAHgBPEH7hJcFz4X3woPlPLrrE0sW6mVnh17PL6i56fZRT2xfULLJcaJeUtGSNdZZPfsu3bmV43Uinz4hQkhaAQ+4Dp4Ab4BHaN/wkuCx8Fp4LrzXxHFhxETSLhgMzWnQsPEGPDbvtYEEO3BdPuSmZTJlXS/HOlbUQJ8AISStgSeMhUfAK7y2Qys8Fd4Kj4XXyrG20yeQCpyWlRWcX1Cz1sarht2+edYXqxwdkUi9+/HX2zt3O784EMjEjOM10UH6gAkhpAzwiNfgGfAOeIj2lUQKHgovhafCW+XYTtMHnIoc4ff7X5TRfGv7405cfv8TL/6aqBG9aMla6/o77v+mxf4HFPt8Psw4HhA1U8dHCCGV0Uz0ADwEXgJPgbdov4mH4JXwTHgnPBReKsdyhDq+tKCuqJ90wHQZ0bcecmT77wcNu231+MKPwndB6Y6rivBQ0AuT/r3+ooGDFzVtvt9i+cCxXeMbop6i3PKHQwghUQEPgZe8AW+Bx8Br4DmxeiARXghPhDfCI+GV8Ez5nf2M7aHE2EsJYzOTJ32BwBJ/ILCtSbMW3x130inFFw8c8vXIx55dO2Ha3B1TZhdb0K4P55OlG8P/D41/56P1dz045uue/QYuPKpDx0/q1d8bs4xt8p5YeuRR0fmivLK/lBBCYgS8BR4Dr/kU3gMPghfBk+BN8KhdfgXvgofBy3a9Bo+D18Hz4H3wQHghPFHeE1vNwiMTtux6MlPT2PtsDDR2zPSm6DPRsoyMjBLRdvlvS/RfvLZTaMemKKNEl4tOMnxynBDiDvAeeBC8CJ4Ebwp72E7Buyx4GTxt52toh9fB8+B98EB4ISGEEEIIIYQQQgghhBBCCCGEEEK8zP8DT0s0voelsWMAAAAASUVORK5CYII=)"
      ],
      "metadata": {
        "id": "ay7v8N-Warzr"
      }
    },
    {
      "cell_type": "code",
      "source": [
        "A = np.array([[1, 2], [3, 4]])\n",
        "x = np.array([5, 10])"
      ],
      "metadata": {
        "id": "vQvBm-u2auvW"
      },
      "execution_count": null,
      "outputs": [

      ]
    },
    {
      "cell_type": "code",
      "source": [
        "A.dot(x)"
      ],
      "metadata": {
        "colab": {
          "base_uri": "https://localhost:8080/"
        },
        "id": "tStsWI0YyLCW",
        "outputId": "db5b8749-133f-4cc3-ae5e-59821116fb14"
      },
      "execution_count": null,
      "outputs": [
        {
          "output_type": "execute_result",
          "data": {
            "text/plain": [
              "array([25, 55])"
            ]
          },
          "metadata": {
          },
          "execution_count": 29
        }
      ]
    },
    {
      "cell_type": "markdown",
      "source": [
        "## Matrix Matrix Product\n",
        "\n",
        "$$ \\begin{pmatrix} 1 & 2 \\\\ 3 & 4 \\end{pmatrix} \\begin{pmatrix} 4 & 3 \\\\ 2 & 1 \\end{pmatrix} $$\n",
        "\n",
        "vs\n",
        "\n",
        "$$ \\begin{pmatrix} 4 & 3 \\\\ 2 & 1 \\end{pmatrix} \\begin{pmatrix} 1 & 2 \\\\ 3 & 4 \\end{pmatrix} $$\n",
        "\n"
      ],
      "metadata": {
        "id": "1bU1BScla1W-"
      }
    },
    {
      "cell_type": "code",
      "source": [
        "# Is matrix multiplication commutative?\n",
        "A = np.array([[1, 2], [3, 4]])\n",
        "B = np.array([[4, 3], [2, 1]])\n",
        "A.dot(B)"
      ],
      "metadata": {
        "id": "8aMRigzea2by",
        "colab": {
          "base_uri": "https://localhost:8080/"
        },
        "outputId": "fa071b70-6132-4d1e-923e-2f90edcfe5cb"
      },
      "execution_count": null,
      "outputs": [
        {
          "output_type": "execute_result",
          "data": {
            "text/plain": [
              "array([[ 8,  5],\n",
              "       [20, 13]])"
            ]
          },
          "metadata": {
          },
          "execution_count": 30
        }
      ]
    },
    {
      "cell_type": "code",
      "source": [
        "B.dot(A)"
      ],
      "metadata": {
        "colab": {
          "base_uri": "https://localhost:8080/"
        },
        "id": "yRHE8HJavV4y",
        "outputId": "94099dcb-3901-40f6-d2a5-519e72216378"
      },
      "execution_count": null,
      "outputs": [
        {
          "output_type": "execute_result",
          "data": {
            "text/plain": [
              "array([[13, 20],\n",
              "       [ 5,  8]])"
            ]
          },
          "metadata": {
          },
          "execution_count": 31
        }
      ]
    },
    {
      "cell_type": "markdown",
      "source": [
        "## Linear Property\n",
        "\n",
        "$$ T(\\alpha x + \\beta y) = \\alpha T(x) + \\beta T(y) $$"
      ],
      "metadata": {
        "id": "YgRnFybcbCqo"
      }
    },
    {
      "cell_type": "code",
      "source": [
        "A = np.array([[1, 2], [3, 4]])\n",
        "x = np.array([5, 10])\n",
        "y = np.array([-15, 7])\n",
        "alpha = 0.9\n",
        "beta = -0.5"
      ],
      "metadata": {
        "id": "xy4lbZlMbDms"
      },
      "execution_count": null,
      "outputs": [

      ]
    },
    {
      "cell_type": "code",
      "source": [
        "A.dot(alpha * x + beta * y)"
      ],
      "metadata": {
        "colab": {
          "base_uri": "https://localhost:8080/"
        },
        "id": "qbfg16KovcEJ",
        "outputId": "5ba48ce3-c612-4d86-ab5b-3fb0523ddb61"
      },
      "execution_count": null,
      "outputs": [
        {
          "output_type": "execute_result",
          "data": {
            "text/plain": [
              "array([23., 58.])"
            ]
          },
          "metadata": {
          },
          "execution_count": 33
        }
      ]
    },
    {
      "cell_type": "code",
      "source": [
        "alpha * A.dot(x) + beta * A.dot(y)"
      ],
      "metadata": {
        "colab": {
          "base_uri": "https://localhost:8080/"
        },
        "id": "PLJEkjw4xHsk",
        "outputId": "ebe4ec18-c0b9-4b92-c992-695591012d51"
      },
      "execution_count": null,
      "outputs": [
        {
          "output_type": "execute_result",
          "data": {
            "text/plain": [
              "array([23., 58.])"
            ]
          },
          "metadata": {
          },
          "execution_count": 34
        }
      ]
    },
    {
      "cell_type": "markdown",
      "source": [
        "## Outer Product"
      ],
      "metadata": {
        "id": "xQ2JwsjQbGu9"
      }
    },
    {
      "cell_type": "code",
      "source": [
        "x = np.array([5, 10])\n",
        "y = np.array([-15, 6])"
      ],
      "metadata": {
        "id": "U4BofBTEbHst"
      },
      "execution_count": null,
      "outputs": [

      ]
    },
    {
      "cell_type": "code",
      "source": [
        "x.dot(y)"
      ],
      "metadata": {
        "colab": {
          "base_uri": "https://localhost:8080/"
        },
        "id": "UNTM6MTCxPgl",
        "outputId": "e0c3488d-a07b-4ac8-db87-27a0ccc69223"
      },
      "execution_count": null,
      "outputs": [
        {
          "output_type": "execute_result",
          "data": {
            "text/plain": [
              "-15"
            ]
          },
          "metadata": {
          },
          "execution_count": 36
        }
      ]
    },
    {
      "cell_type": "code",
      "source": [
        "np.inner(x, y)"
      ],
      "metadata": {
        "colab": {
          "base_uri": "https://localhost:8080/"
        },
        "id": "snALtFBKxQRA",
        "outputId": "fa35e658-52b4-4cd7-b598-61acc4b72f90"
      },
      "execution_count": null,
      "outputs": [
        {
          "output_type": "execute_result",
          "data": {
            "text/plain": [
              "-15"
            ]
          },
          "metadata": {
          },
          "execution_count": 37
        }
      ]
    },
    {
      "cell_type": "code",
      "source": [
        "np.outer(x, y)"
      ],
      "metadata": {
        "colab": {
          "base_uri": "https://localhost:8080/"
        },
        "id": "h7aOgiDkxT5w",
        "outputId": "3a5e753b-5efc-40ef-a056-36d80b60682c"
      },
      "execution_count": null,
      "outputs": [
        {
          "output_type": "execute_result",
          "data": {
            "text/plain": [
              "array([[ -75,   30],\n",
              "       [-150,   60]])"
            ]
          },
          "metadata": {
          },
          "execution_count": 38
        }
      ]
    },
    {
      "cell_type": "code",
      "source": [
        "x @ y.T"
      ],
      "metadata": {
        "colab": {
          "base_uri": "https://localhost:8080/"
        },
        "id": "Ppc_B34l51PD",
        "outputId": "d606308b-0aa6-4a92-ee37-fc48e1156cda"
      },
      "execution_count": null,
      "outputs": [
        {
          "output_type": "execute_result",
          "data": {
            "text/plain": [
              "-15"
            ]
          },
          "metadata": {
          },
          "execution_count": 39
        }
      ]
    },
    {
      "cell_type": "code",
      "source": [
        "y.T"
      ],
      "metadata": {
        "colab": {
          "base_uri": "https://localhost:8080/"
        },
        "id": "rdVMN52c56P9",
        "outputId": "a42673bd-f42c-4760-b5a1-e7040048d91c"
      },
      "execution_count": null,
      "outputs": [
        {
          "output_type": "execute_result",
          "data": {
            "text/plain": [
              "array([-15,   6])"
            ]
          },
          "metadata": {
          },
          "execution_count": 41
        }
      ]
    },
    {
      "cell_type": "code",
      "source": [
        "x2 = x.reshape(2, 1)\n",
        "x2"
      ],
      "metadata": {
        "colab": {
          "base_uri": "https://localhost:8080/"
        },
        "id": "FXWH9JRuxVNw",
        "outputId": "44cc79c2-1620-41f1-c976-fcc1bafbcc31"
      },
      "execution_count": null,
      "outputs": [
        {
          "output_type": "execute_result",
          "data": {
            "text/plain": [
              "array([[ 5],\n",
              "       [10]])"
            ]
          },
          "metadata": {
          },
          "execution_count": 42
        }
      ]
    },
    {
      "cell_type": "code",
      "source": [
        "y2 = y.reshape(1, 2)\n",
        "y2"
      ],
      "metadata": {
        "colab": {
          "base_uri": "https://localhost:8080/"
        },
        "id": "d9L_E9W1xbb5",
        "outputId": "117d3aa7-e7be-4753-c22c-44c7ce3e62db"
      },
      "execution_count": null,
      "outputs": [
        {
          "output_type": "execute_result",
          "data": {
            "text/plain": [
              "array([[-15,   6]])"
            ]
          },
          "metadata": {
          },
          "execution_count": 43
        }
      ]
    },
    {
      "cell_type": "code",
      "source": [
        "y2.T"
      ],
      "metadata": {
        "colab": {
          "base_uri": "https://localhost:8080/"
        },
        "id": "xOPTFsiX6QMf",
        "outputId": "245e8727-99b7-41d8-e26e-0b95d2090cdd"
      },
      "execution_count": null,
      "outputs": [
        {
          "output_type": "execute_result",
          "data": {
            "text/plain": [
              "array([[-15],\n",
              "       [  6]])"
            ]
          },
          "metadata": {
          },
          "execution_count": 44
        }
      ]
    },
    {
      "cell_type": "code",
      "source": [
        "x2.dot(y2)"
      ],
      "metadata": {
        "colab": {
          "base_uri": "https://localhost:8080/"
        },
        "id": "z577UIDgxey5",
        "outputId": "d38f622a-a867-41f5-d806-b2f28eff15f5"
      },
      "execution_count": null,
      "outputs": [
        {
          "output_type": "execute_result",
          "data": {
            "text/plain": [
              "array([[ -75,   30],\n",
              "       [-150,   60]])"
            ]
          },
          "metadata": {
          },
          "execution_count": 45
        }
      ]
    },
    {
      "cell_type": "code",
      "source": [
        "x3 = np.matrix(x2)\n",
        "x3"
      ],
      "metadata": {
        "id": "F56jMym-xf9p",
        "colab": {
          "base_uri": "https://localhost:8080/"
        },
        "outputId": "a44be774-499f-4188-a2e0-8cb38ad987ba"
      },
      "execution_count": null,
      "outputs": [
        {
          "output_type": "execute_result",
          "data": {
            "text/plain": [
              "matrix([[ 5],\n",
              "        [10]])"
            ]
          },
          "metadata": {
          },
          "execution_count": 47
        }
      ]
    },
    {
      "cell_type": "code",
      "source": [
        "y3 = np.matrix(y2.T)\n",
        "y3"
      ],
      "metadata": {
        "colab": {
          "base_uri": "https://localhost:8080/"
        },
        "id": "4TEQH7NT6aZJ",
        "outputId": "ccfa3384-f98a-423e-fb10-8888106f471a"
      },
      "execution_count": null,
      "outputs": [
        {
          "output_type": "execute_result",
          "data": {
            "text/plain": [
              "matrix([[-15],\n",
              "        [  6]])"
            ]
          },
          "metadata": {
          },
          "execution_count": 48
        }
      ]
    },
    {
      "cell_type": "code",
      "source": [
        "x3 @ y3.T"
      ],
      "metadata": {
        "colab": {
          "base_uri": "https://localhost:8080/"
        },
        "id": "RwL81Uu46flw",
        "outputId": "fa477d0c-9dd5-4035-9221-547e55814a1f"
      },
      "execution_count": null,
      "outputs": [
        {
          "output_type": "execute_result",
          "data": {
            "text/plain": [
              "matrix([[ -75,   30],\n",
              "        [-150,   60]])"
            ]
          },
          "metadata": {
          },
          "execution_count": 49
        }
      ]
    },
    {
      "cell_type": "code",
      "source": [

      ],
      "metadata": {
        "id": "NzR9IgfH6mx_"
      },
      "execution_count": null,
      "outputs": [

      ]
    },
    {
      "cell_type": "code",
      "source": [

      ],
      "metadata": {
        "id": "S0acXBWCxiJL"
      },
      "execution_count": null,
      "outputs": [

      ]
    },
    {
      "cell_type": "code",
      "source": [

      ],
      "metadata": {
        "id": "oaG3igwFxiQU"
      },
      "execution_count": null,
      "outputs": [

      ]
    },
    {
      "cell_type": "code",
      "source": [

      ],
      "metadata": {
        "id": "PzQJleyoxiWi"
      },
      "execution_count": null,
      "outputs": [

      ]
    },
    {
      "cell_type": "markdown",
      "source": [
        "![](https://deeplearningcourses.com/notebooks_v3_pxl?sc=U79P7NnBNiFd_XtiGVhbMQ&n=Matrices)"
      ],
      "metadata": {
        "id": "PFJd4PmsxjKb"
      }
    }
  ]
}