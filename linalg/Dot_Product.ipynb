{
  "nbformat": 4,
  "nbformat_minor": 0,
  "metadata": {
    "colab": {
      "provenance": [

      ]
    },
    "kernelspec": {
      "name": "python3",
      "display_name": "Python 3"
    },
    "language_info": {
      "name": "python"
    },
    "sc": "U79P7NnBNiFd_XtiGVhbMQ"
  },
  "cells": [
    {
      "cell_type": "code",
      "execution_count": null,
      "metadata": {
        "id": "TOmud5J13fSr"
      },
      "outputs": [

      ],
      "source": [
        "import numpy as np"
      ]
    },
    {
      "cell_type": "markdown",
      "source": [
        "## Portfolio Returns"
      ],
      "metadata": {
        "id": "Dtt_j0TV7SH9"
      }
    },
    {
      "cell_type": "markdown",
      "source": [
        "Last year, you invested 40% of your portfolio into Apple, and 60% into Google. Apple's price has increased by 20%, while Google's price has increased by 15%. By what percentage has your portfolio increased?"
      ],
      "metadata": {
        "id": "nbIyoxN-62d0"
      }
    },
    {
      "cell_type": "code",
      "source": [
        "w = np.array([0.4, 0.6])\n",
        "r = np.array([0.2, 0.15])\n",
        "w.dot(r)"
      ],
      "metadata": {
        "colab": {
          "base_uri": "https://localhost:8080/"
        },
        "id": "X0ZL6BPC7HYy",
        "outputId": "8a0cff2e-ae37-4579-8657-9fd38f0cad33"
      },
      "execution_count": null,
      "outputs": [
        {
          "output_type": "execute_result",
          "data": {
            "text/plain": [
              "0.17"
            ]
          },
          "metadata": {
          },
          "execution_count": 2
        }
      ]
    },
    {
      "cell_type": "markdown",
      "source": [
        "## Computing the magnitude of a vector"
      ],
      "metadata": {
        "id": "yPKvePQ87Vnt"
      }
    },
    {
      "cell_type": "code",
      "source": [
        "# length of a vector\n",
        "x = np.array([2, 1])\n",
        "print(np.sqrt(x[0]**2 + x[1]**2))\n",
        "print(np.sqrt((x * x).sum()))\n",
        "print(np.sqrt(x.dot(x)))\n",
        "print(np.sqrt(x @ x))\n",
        "print(np.linalg.norm(x))"
      ],
      "metadata": {
        "colab": {
          "base_uri": "https://localhost:8080/"
        },
        "id": "QqacKcsy35qj",
        "outputId": "bbefdfd1-bef2-42cb-e89e-aa2337e4919d"
      },
      "execution_count": null,
      "outputs": [
        {
          "output_type": "stream",
          "name": "stdout",
          "text": [
            "2.23606797749979\n",
            "2.23606797749979\n",
            "2.23606797749979\n",
            "2.23606797749979\n",
            "2.23606797749979\n"
          ]
        }
      ]
    },
    {
      "cell_type": "markdown",
      "source": [
        "## Finding the angle between vectors\n",
        "\n",
        "Find the angle between the vectors (2, 1) and (-1, 2)."
      ],
      "metadata": {
        "id": "jsjtjdhi7aOB"
      }
    },
    {
      "cell_type": "code",
      "source": [
        "x = np.array([2, 1])\n",
        "y = np.array([-1, 2])\n",
        "\n",
        "a1 = np.arctan(x[1] / x[0])\n",
        "a2 = np.arctan(y[1] / y[0])\n",
        "print(a2)\n",
        "print(a1)\n",
        "print(a2 - a1)"
      ],
      "metadata": {
        "colab": {
          "base_uri": "https://localhost:8080/"
        },
        "id": "jHhbFDwp3igV",
        "outputId": "09f19487-eca7-4218-d0e7-a7cce740d8f5"
      },
      "execution_count": null,
      "outputs": [
        {
          "output_type": "stream",
          "name": "stdout",
          "text": [
            "-1.1071487177940904\n",
            "0.4636476090008061\n",
            "-1.5707963267948966\n"
          ]
        }
      ]
    },
    {
      "cell_type": "code",
      "source": [
        "# adjustment for quadrant\n",
        "# quadrant 1 (x+, y+): arctan(y / x)\n",
        "# quadrant 2 (x-, y+): arctan(y / x) + pi\n",
        "# quadrant 3 (x-, y-): arctan(y / x) + pi\n",
        "# quadrant 4 (x+, y-): arctan(y / x) + 2pi"
      ],
      "metadata": {
        "id": "6biWkHBy6ATq"
      },
      "execution_count": null,
      "outputs": [

      ]
    },
    {
      "cell_type": "code",
      "source": [
        "a1 = np.arctan(x[1] / x[0])\n",
        "a2 = np.arctan(y[1] / y[0]) + np.pi\n",
        "print(a2)\n",
        "print(a1)\n",
        "print(a2 - a1)"
      ],
      "metadata": {
        "colab": {
          "base_uri": "https://localhost:8080/"
        },
        "id": "bKXUvN5a6YrL",
        "outputId": "51912b5b-f45b-467e-9339-3bf0f6c35d1d"
      },
      "execution_count": null,
      "outputs": [
        {
          "output_type": "stream",
          "name": "stdout",
          "text": [
            "2.0344439357957027\n",
            "0.4636476090008061\n",
            "1.5707963267948966\n"
          ]
        }
      ]
    },
    {
      "cell_type": "code",
      "source": [
        "lenxleny = np.linalg.norm(x) * np.linalg.norm(y)\n",
        "print(np.arccos(x.dot(y) / lenxleny))"
      ],
      "metadata": {
        "colab": {
          "base_uri": "https://localhost:8080/"
        },
        "id": "u44RzVzG4bnn",
        "outputId": "84c86117-95ae-41d7-a61e-1c0fe037389a"
      },
      "execution_count": null,
      "outputs": [
        {
          "output_type": "stream",
          "name": "stdout",
          "text": [
            "1.5707963267948966\n"
          ]
        }
      ]
    },
    {
      "cell_type": "markdown",
      "source": [
        "Find the angle between (1, 2, 1) and (-2, -1, 3)"
      ],
      "metadata": {
        "id": "Ima06Dw26gfM"
      }
    },
    {
      "cell_type": "code",
      "source": [
        "x = np.array([1, 2, 1])\n",
        "y = np.array([-2, -1, 3])\n",
        "lenxleny = np.linalg.norm(x) * np.linalg.norm(y)\n",
        "print(np.arccos(x.dot(y) / lenxleny))"
      ],
      "metadata": {
        "colab": {
          "base_uri": "https://localhost:8080/"
        },
        "id": "bVq-JpQr6fyy",
        "outputId": "6dcee414-89d0-44f4-e1b9-82a86e2dcad3"
      },
      "execution_count": null,
      "outputs": [
        {
          "output_type": "stream",
          "name": "stdout",
          "text": [
            "1.6801229259468808\n"
          ]
        }
      ]
    },
    {
      "cell_type": "code",
      "source": [

      ],
      "metadata": {
        "id": "b07eHaLl4v_i"
      },
      "execution_count": null,
      "outputs": [

      ]
    },
    {
      "cell_type": "code",
      "source": [

      ],
      "metadata": {
        "id": "S0acXBWCxiJL"
      },
      "execution_count": null,
      "outputs": [

      ]
    },
    {
      "cell_type": "code",
      "source": [

      ],
      "metadata": {
        "id": "oaG3igwFxiQU"
      },
      "execution_count": null,
      "outputs": [

      ]
    },
    {
      "cell_type": "code",
      "source": [

      ],
      "metadata": {
        "id": "PzQJleyoxiWi"
      },
      "execution_count": null,
      "outputs": [

      ]
    },
    {
      "cell_type": "markdown",
      "source": [
        "![](https://deeplearningcourses.com/notebooks_v3_pxl?sc=U79P7NnBNiFd_XtiGVhbMQ&n=Dot+Product)"
      ],
      "metadata": {
        "id": "PFJd4PmsxjKb"
      }
    }
  ]
}