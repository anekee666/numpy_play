{
  "nbformat": 4,
  "nbformat_minor": 0,
  "metadata": {
    "colab": {
      "provenance": [

      ]
    },
    "kernelspec": {
      "name": "python3",
      "display_name": "Python 3"
    },
    "language_info": {
      "name": "python"
    },
    "sc": "U79P7NnBNiFd_XtiGVhbMQ"
  },
  "cells": [
    {
      "cell_type": "code",
      "source": [
        "import numpy as np"
      ],
      "metadata": {
        "id": "8BFWFO3JdVKk"
      },
      "execution_count": null,
      "outputs": [

      ]
    },
    {
      "cell_type": "markdown",
      "source": [
        "## Checking the rank of a matrix"
      ],
      "metadata": {
        "id": "uPvcUOxOcvGB"
      }
    },
    {
      "cell_type": "code",
      "source": [
        "# Simple example\n",
        "A = np.array([[1, 2], [1, 1]])\n",
        "np.linalg.matrix_rank(A)"
      ],
      "metadata": {
        "colab": {
          "base_uri": "https://localhost:8080/"
        },
        "id": "CnMccJ3ecz2O",
        "outputId": "c5113b05-2ff4-4636-84ab-40a07a4a5457"
      },
      "execution_count": null,
      "outputs": [
        {
          "output_type": "execute_result",
          "data": {
            "text/plain": [
              "2"
            ]
          },
          "metadata": {
          },
          "execution_count": 2
        }
      ]
    },
    {
      "cell_type": "code",
      "execution_count": null,
      "metadata": {
        "id": "1VeF37VdTCt1",
        "colab": {
          "base_uri": "https://localhost:8080/"
        },
        "outputId": "f1f0a5d9-41af-4edc-bac3-09a6432611af"
      },
      "outputs": [
        {
          "output_type": "execute_result",
          "data": {
            "text/plain": [
              "2"
            ]
          },
          "metadata": {
          },
          "execution_count": 3
        }
      ],
      "source": [
        "# What if one row/col is *almost* a constant multiple of another?\n",
        "A = np.array([[1, 1.0000001], [1, 1]])\n",
        "np.linalg.matrix_rank(A)"
      ]
    },
    {
      "cell_type": "code",
      "source": [
        "# we can find the rank by looking at how many non-zero values are in S\n",
        "A = np.array([[1, 2], [1, 1]])\n",
        "U, S, VT = np.linalg.svd(A)\n",
        "S"
      ],
      "metadata": {
        "colab": {
          "base_uri": "https://localhost:8080/"
        },
        "id": "977Lci23ZZNT",
        "outputId": "1df89d38-1772-4e54-ea19-d4cdd313e8e4"
      },
      "execution_count": null,
      "outputs": [
        {
          "output_type": "execute_result",
          "data": {
            "text/plain": [
              "array([2.61803399, 0.38196601])"
            ]
          },
          "metadata": {
          },
          "execution_count": 4
        }
      ]
    },
    {
      "cell_type": "code",
      "source": [
        "A = np.array([[1, 2], [2, 4]])\n",
        "U, S, VT = np.linalg.svd(A)\n",
        "S"
      ],
      "metadata": {
        "colab": {
          "base_uri": "https://localhost:8080/"
        },
        "id": "mYDW2pWxZdD0",
        "outputId": "8b475ac3-0030-4698-84f9-1daa283a6219"
      },
      "execution_count": null,
      "outputs": [
        {
          "output_type": "execute_result",
          "data": {
            "text/plain": [
              "array([5.00000000e+00, 1.98602732e-16])"
            ]
          },
          "metadata": {
          },
          "execution_count": 5
        }
      ]
    },
    {
      "cell_type": "markdown",
      "source": [
        "## Matrix Decompositions"
      ],
      "metadata": {
        "id": "Gvql4G8-czNm"
      }
    },
    {
      "cell_type": "code",
      "source": [
        "L = np.array([[1, 0], [2, 1]])\n",
        "A = L @ L.T\n",
        "A"
      ],
      "metadata": {
        "colab": {
          "base_uri": "https://localhost:8080/"
        },
        "id": "jESBkBLzc3gZ",
        "outputId": "8242d271-0b3b-4ee6-ac90-a380567c64e5"
      },
      "execution_count": null,
      "outputs": [
        {
          "output_type": "execute_result",
          "data": {
            "text/plain": [
              "array([[1, 2],\n",
              "       [2, 5]])"
            ]
          },
          "metadata": {
          },
          "execution_count": 6
        }
      ]
    },
    {
      "cell_type": "code",
      "source": [
        "# Exercise on your own: Check that A is PD"
      ],
      "metadata": {
        "id": "jvLN31nUkczO"
      },
      "execution_count": null,
      "outputs": [

      ]
    },
    {
      "cell_type": "code",
      "source": [
        "np.linalg.cholesky(A)"
      ],
      "metadata": {
        "colab": {
          "base_uri": "https://localhost:8080/"
        },
        "id": "N7ok8VhwkFP8",
        "outputId": "29bf8e5c-e80b-4339-fa26-4758d4888efd"
      },
      "execution_count": null,
      "outputs": [
        {
          "output_type": "execute_result",
          "data": {
            "text/plain": [
              "array([[1., 0.],\n",
              "       [2., 1.]])"
            ]
          },
          "metadata": {
          },
          "execution_count": 7
        }
      ]
    },
    {
      "cell_type": "code",
      "source": [
        "import scipy\n",
        "A = np.array([[1, 2, 3], [3, 4, 5], [5, 6, 7]])\n",
        "P, L, U = scipy.linalg.lu(A) # A = P @ L @ U"
      ],
      "metadata": {
        "id": "b2NVrvx_lAP0"
      },
      "execution_count": null,
      "outputs": [

      ]
    },
    {
      "cell_type": "code",
      "source": [
        "P"
      ],
      "metadata": {
        "colab": {
          "base_uri": "https://localhost:8080/"
        },
        "id": "2DEsuoNNpXYg",
        "outputId": "2e9b58f4-937f-452c-eaaf-34efb395dfac"
      },
      "execution_count": null,
      "outputs": [
        {
          "output_type": "execute_result",
          "data": {
            "text/plain": [
              "array([[0., 1., 0.],\n",
              "       [0., 0., 1.],\n",
              "       [1., 0., 0.]])"
            ]
          },
          "metadata": {
          },
          "execution_count": 9
        }
      ]
    },
    {
      "cell_type": "code",
      "source": [
        "L"
      ],
      "metadata": {
        "colab": {
          "base_uri": "https://localhost:8080/"
        },
        "id": "ruz8xD-ApRsA",
        "outputId": "3cce9a7d-a9e1-4445-b9fa-926041dfecd1"
      },
      "execution_count": null,
      "outputs": [
        {
          "output_type": "execute_result",
          "data": {
            "text/plain": [
              "array([[1. , 0. , 0. ],\n",
              "       [0.2, 1. , 0. ],\n",
              "       [0.6, 0.5, 1. ]])"
            ]
          },
          "metadata": {
          },
          "execution_count": 10
        }
      ]
    },
    {
      "cell_type": "code",
      "source": [
        "U"
      ],
      "metadata": {
        "colab": {
          "base_uri": "https://localhost:8080/"
        },
        "id": "l9tq3PlapTaB",
        "outputId": "ea5158a4-4308-4a90-fff8-43a1f47051dd"
      },
      "execution_count": null,
      "outputs": [
        {
          "output_type": "execute_result",
          "data": {
            "text/plain": [
              "array([[5. , 6. , 7. ],\n",
              "       [0. , 0.8, 1.6],\n",
              "       [0. , 0. , 0. ]])"
            ]
          },
          "metadata": {
          },
          "execution_count": 11
        }
      ]
    },
    {
      "cell_type": "code",
      "source": [
        "A = np.array([[1, 2], [3, 4], [5, 6]])\n",
        "P, L, U = scipy.linalg.lu(A)"
      ],
      "metadata": {
        "id": "q3MEXtITqdA8"
      },
      "execution_count": null,
      "outputs": [

      ]
    },
    {
      "cell_type": "code",
      "source": [
        "P"
      ],
      "metadata": {
        "colab": {
          "base_uri": "https://localhost:8080/"
        },
        "id": "hl4rDjdvqfTQ",
        "outputId": "e6e2a698-9fb7-4401-ab8e-b48c8da53be8"
      },
      "execution_count": null,
      "outputs": [
        {
          "output_type": "execute_result",
          "data": {
            "text/plain": [
              "array([[0., 1., 0.],\n",
              "       [0., 0., 1.],\n",
              "       [1., 0., 0.]])"
            ]
          },
          "metadata": {
          },
          "execution_count": 13
        }
      ]
    },
    {
      "cell_type": "code",
      "source": [
        "L"
      ],
      "metadata": {
        "colab": {
          "base_uri": "https://localhost:8080/"
        },
        "id": "VyfKs7reqgJ5",
        "outputId": "13122e1c-5ecc-469a-e68a-17a3a03ffe37"
      },
      "execution_count": null,
      "outputs": [
        {
          "output_type": "execute_result",
          "data": {
            "text/plain": [
              "array([[1. , 0. ],\n",
              "       [0.2, 1. ],\n",
              "       [0.6, 0.5]])"
            ]
          },
          "metadata": {
          },
          "execution_count": 14
        }
      ]
    },
    {
      "cell_type": "code",
      "source": [
        "U"
      ],
      "metadata": {
        "colab": {
          "base_uri": "https://localhost:8080/"
        },
        "id": "BXjAATylqhAo",
        "outputId": "c8ec7ddf-29ce-4742-c2cf-3b16788ef8ca"
      },
      "execution_count": null,
      "outputs": [
        {
          "output_type": "execute_result",
          "data": {
            "text/plain": [
              "array([[5. , 6. ],\n",
              "       [0. , 0.8]])"
            ]
          },
          "metadata": {
          },
          "execution_count": 15
        }
      ]
    },
    {
      "cell_type": "code",
      "source": [
        "A = np.array([[1, 2], [3, 4], [5, 6]])\n",
        "Q, R = np.linalg.qr(A)"
      ],
      "metadata": {
        "id": "j8vPWZXOkfC9"
      },
      "execution_count": null,
      "outputs": [

      ]
    },
    {
      "cell_type": "code",
      "source": [
        "Q"
      ],
      "metadata": {
        "colab": {
          "base_uri": "https://localhost:8080/"
        },
        "id": "HcnZoi_hkoIs",
        "outputId": "880579c9-3089-4575-839f-1800e76ff9a4"
      },
      "execution_count": null,
      "outputs": [
        {
          "output_type": "execute_result",
          "data": {
            "text/plain": [
              "array([[-0.16903085,  0.89708523],\n",
              "       [-0.50709255,  0.27602622],\n",
              "       [-0.84515425, -0.34503278]])"
            ]
          },
          "metadata": {
          },
          "execution_count": 17
        }
      ]
    },
    {
      "cell_type": "code",
      "source": [
        "R"
      ],
      "metadata": {
        "colab": {
          "base_uri": "https://localhost:8080/"
        },
        "id": "CQgaUCaSkpix",
        "outputId": "80952d5a-71ac-4729-de0d-42fa6515a4b2"
      },
      "execution_count": null,
      "outputs": [
        {
          "output_type": "execute_result",
          "data": {
            "text/plain": [
              "array([[-5.91607978, -7.43735744],\n",
              "       [ 0.        ,  0.82807867]])"
            ]
          },
          "metadata": {
          },
          "execution_count": 18
        }
      ]
    },
    {
      "cell_type": "code",
      "source": [
        "Q @ Q.T"
      ],
      "metadata": {
        "colab": {
          "base_uri": "https://localhost:8080/"
        },
        "id": "j9bjmmLUk8DB",
        "outputId": "6d59f665-76d4-4793-c4d7-927892769752"
      },
      "execution_count": null,
      "outputs": [
        {
          "output_type": "execute_result",
          "data": {
            "text/plain": [
              "array([[ 0.83333333,  0.33333333, -0.16666667],\n",
              "       [ 0.33333333,  0.33333333,  0.33333333],\n",
              "       [-0.16666667,  0.33333333,  0.83333333]])"
            ]
          },
          "metadata": {
          },
          "execution_count": 19
        }
      ]
    },
    {
      "cell_type": "code",
      "source": [
        "Q.T @ Q"
      ],
      "metadata": {
        "colab": {
          "base_uri": "https://localhost:8080/"
        },
        "id": "PZrP_FAvksf4",
        "outputId": "d6633979-b553-49ba-e040-8b2bd200f6bd"
      },
      "execution_count": null,
      "outputs": [
        {
          "output_type": "execute_result",
          "data": {
            "text/plain": [
              "array([[1.00000000e+00, 6.18439648e-17],\n",
              "       [6.18439648e-17, 1.00000000e+00]])"
            ]
          },
          "metadata": {
          },
          "execution_count": 20
        }
      ]
    },
    {
      "cell_type": "markdown",
      "source": [
        "## Frobenius Norm and Trace"
      ],
      "metadata": {
        "id": "69Vk5pEAf3Uq"
      }
    },
    {
      "cell_type": "code",
      "source": [
        "A = np.array([[1, 2], [3, 4], [5, 6]])\n",
        "np.linalg.norm(A)"
      ],
      "metadata": {
        "colab": {
          "base_uri": "https://localhost:8080/"
        },
        "id": "K9BIoOZSf59H",
        "outputId": "ab5a82c8-91ec-4a4b-c5a3-2ce23df7c7bb"
      },
      "execution_count": null,
      "outputs": [
        {
          "output_type": "execute_result",
          "data": {
            "text/plain": [
              "9.539392014169456"
            ]
          },
          "metadata": {
          },
          "execution_count": 21
        }
      ]
    },
    {
      "cell_type": "code",
      "source": [
        "np.sqrt(np.trace(A @ A.T))"
      ],
      "metadata": {
        "colab": {
          "base_uri": "https://localhost:8080/"
        },
        "id": "Pv8l4s22gFx_",
        "outputId": "2f2cab38-8132-4dd3-cf91-94f31c539454"
      },
      "execution_count": null,
      "outputs": [
        {
          "output_type": "execute_result",
          "data": {
            "text/plain": [
              "9.539392014169456"
            ]
          },
          "metadata": {
          },
          "execution_count": 22
        }
      ]
    },
    {
      "cell_type": "code",
      "source": [
        "np.sqrt(np.trace(A.T @ A))"
      ],
      "metadata": {
        "colab": {
          "base_uri": "https://localhost:8080/"
        },
        "id": "pC9D51RPgPKt",
        "outputId": "1a9f7bdd-e6ba-4e79-cace-d4d992111792"
      },
      "execution_count": null,
      "outputs": [
        {
          "output_type": "execute_result",
          "data": {
            "text/plain": [
              "9.539392014169456"
            ]
          },
          "metadata": {
          },
          "execution_count": 23
        }
      ]
    },
    {
      "cell_type": "markdown",
      "source": [
        "## Investigating SVD"
      ],
      "metadata": {
        "id": "Sqoypmw2dLse"
      }
    },
    {
      "cell_type": "code",
      "source": [
        "# Let's find the best rank 1 approximation\n",
        "A = np.array([[1, 2, 3], [3, 4, 5], [5, 6, 7], [7, 8, 9]])\n",
        "U, S, VT = np.linalg.svd(A)"
      ],
      "metadata": {
        "id": "wINCIyhFdNGt"
      },
      "execution_count": null,
      "outputs": [

      ]
    },
    {
      "cell_type": "code",
      "source": [
        "U"
      ],
      "metadata": {
        "colab": {
          "base_uri": "https://localhost:8080/"
        },
        "id": "uXx8VEgjhNh7",
        "outputId": "5d67d579-70fe-4119-cdc8-445e2537bb09"
      },
      "execution_count": null,
      "outputs": [
        {
          "output_type": "execute_result",
          "data": {
            "text/plain": [
              "array([[-0.18923073, -0.81497959,  0.37684105, -0.39748059],\n",
              "       [-0.36846753, -0.40525508, -0.2061902 ,  0.81085486],\n",
              "       [-0.54770432,  0.00446943, -0.71814276, -0.42926795],\n",
              "       [-0.72694112,  0.41419393,  0.54749191,  0.01589368]])"
            ]
          },
          "metadata": {
          },
          "execution_count": 25
        }
      ]
    },
    {
      "cell_type": "code",
      "source": [
        "S"
      ],
      "metadata": {
        "colab": {
          "base_uri": "https://localhost:8080/"
        },
        "id": "PqyWzoLshOLj",
        "outputId": "f172275a-e7ec-4c23-b83f-59f2c94cb873"
      },
      "execution_count": null,
      "outputs": [
        {
          "output_type": "execute_result",
          "data": {
            "text/plain": [
              "array([1.91491774e+01, 1.14411715e+00, 1.08189867e-15])"
            ]
          },
          "metadata": {
          },
          "execution_count": 26
        }
      ]
    },
    {
      "cell_type": "code",
      "source": [
        "VT"
      ],
      "metadata": {
        "colab": {
          "base_uri": "https://localhost:8080/"
        },
        "id": "YVHtBIHjhOoj",
        "outputId": "1e79c60d-4653-468e-ceac-83c8c8fba23d"
      },
      "execution_count": null,
      "outputs": [
        {
          "output_type": "execute_result",
          "data": {
            "text/plain": [
              "array([[-0.47635167, -0.57203953, -0.66772738],\n",
              "       [ 0.77873129,  0.07812881, -0.62247367],\n",
              "       [-0.40824829,  0.81649658, -0.40824829]])"
            ]
          },
          "metadata": {
          },
          "execution_count": 27
        }
      ]
    },
    {
      "cell_type": "code",
      "source": [
        "U @ U.T"
      ],
      "metadata": {
        "colab": {
          "base_uri": "https://localhost:8080/"
        },
        "id": "0cf-EzcjhdaG",
        "outputId": "ed1bcf34-341f-4992-d946-8732347d0006"
      },
      "execution_count": null,
      "outputs": [
        {
          "output_type": "execute_result",
          "data": {
            "text/plain": [
              "array([[ 1.00000000e+00, -1.49623437e-16,  9.19305943e-17,\n",
              "         2.76029300e-16],\n",
              "       [-1.49623437e-16,  1.00000000e+00,  2.76362030e-17,\n",
              "         1.54733747e-16],\n",
              "       [ 9.19305943e-17,  2.76362030e-17,  1.00000000e+00,\n",
              "        -3.56629509e-17],\n",
              "       [ 2.76029300e-16,  1.54733747e-16, -3.56629509e-17,\n",
              "         1.00000000e+00]])"
            ]
          },
          "metadata": {
          },
          "execution_count": 28
        }
      ]
    },
    {
      "cell_type": "code",
      "source": [
        "z = U @ U.T\n",
        "I = np.eye(len(z))\n",
        "np.allclose(z, I)"
      ],
      "metadata": {
        "colab": {
          "base_uri": "https://localhost:8080/"
        },
        "id": "1h09JWzJhPCz",
        "outputId": "c4026857-bd2d-4a06-b259-b829e615de1e"
      },
      "execution_count": null,
      "outputs": [
        {
          "output_type": "execute_result",
          "data": {
            "text/plain": [
              "True"
            ]
          },
          "metadata": {
          },
          "execution_count": 29
        }
      ]
    },
    {
      "cell_type": "code",
      "source": [
        "z = VT @ VT.T\n",
        "I = np.eye(len(z))\n",
        "np.allclose(z, I)"
      ],
      "metadata": {
        "colab": {
          "base_uri": "https://localhost:8080/"
        },
        "id": "OtCTj_aFhQ7C",
        "outputId": "196cacf1-d51a-408f-b182-87b6f6d81d7e"
      },
      "execution_count": null,
      "outputs": [
        {
          "output_type": "execute_result",
          "data": {
            "text/plain": [
              "True"
            ]
          },
          "metadata": {
          },
          "execution_count": 30
        }
      ]
    },
    {
      "cell_type": "code",
      "source": [
        "np.linalg.matrix_rank(A.T @ A)"
      ],
      "metadata": {
        "colab": {
          "base_uri": "https://localhost:8080/"
        },
        "id": "V9FPeAuypIjf",
        "outputId": "c7a2ad09-aa5a-4ea7-ecfb-5dd85b196e73"
      },
      "execution_count": null,
      "outputs": [
        {
          "output_type": "execute_result",
          "data": {
            "text/plain": [
              "2"
            ]
          },
          "metadata": {
          },
          "execution_count": 31
        }
      ]
    },
    {
      "cell_type": "code",
      "source": [
        "np.linalg.matrix_rank(A @ A.T)"
      ],
      "metadata": {
        "colab": {
          "base_uri": "https://localhost:8080/"
        },
        "id": "IC3P8LmGpSqW",
        "outputId": "2437dedc-c7be-4b48-8431-1079b4a97714"
      },
      "execution_count": null,
      "outputs": [
        {
          "output_type": "execute_result",
          "data": {
            "text/plain": [
              "2"
            ]
          },
          "metadata": {
          },
          "execution_count": 32
        }
      ]
    },
    {
      "cell_type": "code",
      "source": [
        "np.linalg.matrix_rank(A)"
      ],
      "metadata": {
        "colab": {
          "base_uri": "https://localhost:8080/"
        },
        "id": "0BzEcluOqch5",
        "outputId": "5f3a61a0-4e90-4059-e0fd-fa52c32f5f24"
      },
      "execution_count": null,
      "outputs": [
        {
          "output_type": "execute_result",
          "data": {
            "text/plain": [
              "2"
            ]
          },
          "metadata": {
          },
          "execution_count": 35
        }
      ]
    },
    {
      "cell_type": "markdown",
      "source": [
        "Another way to express SVD:\n",
        "\n",
        "$$ USV^T = \\sum_{i=1}^n \\sigma_i u_i v_i^T $$"
      ],
      "metadata": {
        "id": "Tzb7Z_TQtu6z"
      }
    },
    {
      "cell_type": "code",
      "source": [
        "# rank 1 approximation\n",
        "Ahat1 = S[0] * np.outer(U[:,0], VT[0,:])\n",
        "Ahat1"
      ],
      "metadata": {
        "colab": {
          "base_uri": "https://localhost:8080/"
        },
        "id": "xbWb1571hh1E",
        "outputId": "277b804f-05f8-4a83-95ec-c614243ac1a8"
      },
      "execution_count": null,
      "outputs": [
        {
          "output_type": "execute_result",
          "data": {
            "text/plain": [
              "array([[1.72611407, 2.07284981, 2.41958555],\n",
              "       [3.36106599, 4.03622515, 4.7113843 ],\n",
              "       [4.99601792, 5.99960048, 7.00318305],\n",
              "       [6.63096985, 7.96297582, 9.2949818 ]])"
            ]
          },
          "metadata": {
          },
          "execution_count": 33
        }
      ]
    },
    {
      "cell_type": "code",
      "source": [
        "# rank 2 approximation\n",
        "Ahat2 = S[0] * np.outer(U[:,0], VT[0,:]) + S[1] * np.outer(U[:,1], VT[1,:])\n",
        "Ahat2"
      ],
      "metadata": {
        "colab": {
          "base_uri": "https://localhost:8080/"
        },
        "id": "ed0XvZJkhvNN",
        "outputId": "da4a7a76-9982-461c-83cf-76dd9274213e"
      },
      "execution_count": null,
      "outputs": [
        {
          "output_type": "execute_result",
          "data": {
            "text/plain": [
              "array([[1., 2., 3.],\n",
              "       [3., 4., 5.],\n",
              "       [5., 6., 7.],\n",
              "       [7., 8., 9.]])"
            ]
          },
          "metadata": {
          },
          "execution_count": 34
        }
      ]
    },
    {
      "cell_type": "code",
      "source": [
        "# what's left?\n",
        "S[2] * np.outer(U[:,2], VT[2,:])"
      ],
      "metadata": {
        "colab": {
          "base_uri": "https://localhost:8080/"
        },
        "id": "Er7w6o2mh590",
        "outputId": "e3636772-48f9-402f-ea89-0772a12675a5"
      },
      "execution_count": null,
      "outputs": [
        {
          "output_type": "execute_result",
          "data": {
            "text/plain": [
              "array([[-1.66444394e-16,  3.32888787e-16, -1.66444394e-16],\n",
              "       [ 9.10707641e-17, -1.82141528e-16,  9.10707641e-17],\n",
              "       [ 3.17191652e-16, -6.34383305e-16,  3.17191652e-16],\n",
              "       [-2.41818023e-16,  4.83636046e-16, -2.41818023e-16]])"
            ]
          },
          "metadata": {
          },
          "execution_count": 36
        }
      ]
    },
    {
      "cell_type": "code",
      "source": [
        "# Exercise: confirm the rank 1 approximation we calculated is the\n",
        "# best rank 1 approximation"
      ],
      "metadata": {
        "id": "9dLSLaaWiGH_"
      },
      "execution_count": null,
      "outputs": [

      ]
    },
    {
      "cell_type": "code",
      "source": [

      ],
      "metadata": {
        "id": "106DOQqGqzkw"
      },
      "execution_count": null,
      "outputs": [

      ]
    },
    {
      "cell_type": "code",
      "source": [

      ],
      "metadata": {
        "id": "S0acXBWCxiJL"
      },
      "execution_count": null,
      "outputs": [

      ]
    },
    {
      "cell_type": "code",
      "source": [

      ],
      "metadata": {
        "id": "oaG3igwFxiQU"
      },
      "execution_count": null,
      "outputs": [

      ]
    },
    {
      "cell_type": "code",
      "source": [

      ],
      "metadata": {
        "id": "PzQJleyoxiWi"
      },
      "execution_count": null,
      "outputs": [

      ]
    },
    {
      "cell_type": "markdown",
      "source": [
        "![](https://deeplearningcourses.com/notebooks_v3_pxl?sc=U79P7NnBNiFd_XtiGVhbMQ&n=Matrix+Rank)"
      ],
      "metadata": {
        "id": "PFJd4PmsxjKb"
      }
    }
  ]
}