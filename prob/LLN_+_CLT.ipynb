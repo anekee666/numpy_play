{
  "nbformat": 4,
  "nbformat_minor": 0,
  "metadata": {
    "colab": {
      "provenance": [

      ]
    },
    "kernelspec": {
      "name": "python3",
      "display_name": "Python 3"
    },
    "language_info": {
      "name": "python"
    },
    "sc": "L5rVabHObBsRpryYTp-FxQ"
  },
  "cells": [
    {
      "cell_type": "code",
      "source": [
        "# I lied a little bit when I said this course won't contain ANY data\n",
        "# This code example contains what we call \"synthetic\" data\n",
        "# Synthetic data is useful because it allows us to TEST the behavior of models\n",
        "# i.e. Do they do what we expect them to do?\n",
        "# Because we generate the data, we know the \"answer\"\n",
        "# With experimental data, we do not\n",
        "# Why does this section contain such \"data\", when I said only stats uses data?\n",
        "# Because LLN + CLT are kind of a \"bridge\" between probability + stats"
      ],
      "metadata": {
        "id": "vIvrwWGKd7W9"
      },
      "execution_count": null,
      "outputs": [

      ]
    },
    {
      "cell_type": "code",
      "execution_count": null,
      "metadata": {
        "id": "8EJe6ksqMKNd"
      },
      "outputs": [

      ],
      "source": [
        "import numpy as np\n",
        "import matplotlib.pyplot as plt\n",
        "from scipy.stats import uniform, expon, norm, laplace, binom, geom, \\\n",
        "  multivariate_normal as mvn"
      ]
    },
    {
      "cell_type": "code",
      "source": [
        "m = 0\n",
        "v = 1\n",
        "xvals = norm.rvs(m, v, size=10)\n",
        "np.mean(xvals)"
      ],
      "metadata": {
        "colab": {
          "base_uri": "https://localhost:8080/"
        },
        "id": "pbwwo4ztYxyZ",
        "outputId": "b66a15f1-1401-4130-cf0a-b8b9733824be"
      },
      "execution_count": null,
      "outputs": [
        {
          "output_type": "execute_result",
          "data": {
            "text/plain": [
              "-0.08291929237523282"
            ]
          },
          "metadata": {
          },
          "execution_count": 3
        }
      ]
    },
    {
      "cell_type": "code",
      "source": [
        "# you'll get a different answer every time!\n",
        "m = 0\n",
        "v = 1\n",
        "xvals = norm.rvs(m, v, size=10)\n",
        "np.mean(xvals)"
      ],
      "metadata": {
        "colab": {
          "base_uri": "https://localhost:8080/"
        },
        "id": "G9peC8XCZBy-",
        "outputId": "e4c28068-c6f2-493e-ad2a-b5938c9e4347"
      },
      "execution_count": null,
      "outputs": [
        {
          "output_type": "execute_result",
          "data": {
            "text/plain": [
              "0.5458261414966625"
            ]
          },
          "metadata": {
          },
          "execution_count": 8
        }
      ]
    },
    {
      "cell_type": "code",
      "source": [
        "# np.mean() is the same as adding all the values and dividing by N\n",
        "m = 0\n",
        "v = 1\n",
        "xvals = norm.rvs(m, v, size=10)\n",
        "np.sum(xvals) / len(xvals), np.mean(xvals)"
      ],
      "metadata": {
        "colab": {
          "base_uri": "https://localhost:8080/"
        },
        "id": "4iCHxiefejeT",
        "outputId": "c941e1c4-e68c-4537-b619-807115d861ad"
      },
      "execution_count": null,
      "outputs": [
        {
          "output_type": "execute_result",
          "data": {
            "text/plain": [
              "(0.2768936392971499, 0.2768936392971499)"
            ]
          },
          "metadata": {
          },
          "execution_count": 9
        }
      ]
    },
    {
      "cell_type": "code",
      "source": [
        "# what if variance increases?\n",
        "m = 0\n",
        "v = 100\n",
        "xvals = norm.rvs(m, v, size=10)\n",
        "np.mean(xvals)"
      ],
      "metadata": {
        "colab": {
          "base_uri": "https://localhost:8080/"
        },
        "id": "iIiLAUP4ZNvw",
        "outputId": "1c8aaba1-2ef5-47e6-9e83-a4d73da3a728"
      },
      "execution_count": null,
      "outputs": [
        {
          "output_type": "execute_result",
          "data": {
            "text/plain": [
              "25.996041668483826"
            ]
          },
          "metadata": {
          },
          "execution_count": 11
        }
      ]
    },
    {
      "cell_type": "code",
      "source": [
        "# what if you add more samples?\n",
        "m = 0\n",
        "v = 100\n",
        "xvals = norm.rvs(m, v, size=1000000)\n",
        "np.mean(xvals)"
      ],
      "metadata": {
        "colab": {
          "base_uri": "https://localhost:8080/"
        },
        "id": "iKBv4d_AZQaQ",
        "outputId": "81bebee3-2af1-45c4-88e3-4fc8c24ef8a8"
      },
      "execution_count": null,
      "outputs": [
        {
          "output_type": "execute_result",
          "data": {
            "text/plain": [
              "-0.05470622293197185"
            ]
          },
          "metadata": {
          },
          "execution_count": 16
        }
      ]
    },
    {
      "cell_type": "code",
      "source": [
        "# we can also use the LLN to estimate functions of expected values\n",
        "# this is called the \"sample variance\"\n",
        "m = 0\n",
        "v = 1\n",
        "xvals = norm.rvs(m, v, size=1000)\n",
        "m_est = np.mean(xvals)\n",
        "v_est = np.sum((xvals - m_est)**2)/len(xvals)\n",
        "print(m_est, v_est)"
      ],
      "metadata": {
        "colab": {
          "base_uri": "https://localhost:8080/"
        },
        "id": "sD3Tj4aTZUa-",
        "outputId": "a6d4593b-2a84-4dcf-b854-633777d04d01"
      },
      "execution_count": null,
      "outputs": [
        {
          "output_type": "stream",
          "name": "stdout",
          "text": [
            "0.06772817018526879 1.001321974741583\n"
          ]
        }
      ]
    },
    {
      "cell_type": "code",
      "source": [
        "# EXERCISE: try different distributions' means + variances\n",
        "# and compare with their theoretical answers from wikipedia"
      ],
      "metadata": {
        "id": "8it6TH1ze58s"
      },
      "execution_count": null,
      "outputs": [

      ]
    },
    {
      "cell_type": "code",
      "source": [
        "# 3 ways to compute P(1 <= X <= 2)\n",
        "\n",
        "m = 0\n",
        "v = 1\n",
        "xvals = norm.rvs(m, v, size=1000000)\n",
        "\n",
        "# what this is doing:\n",
        "# count = 0\n",
        "# for x in xvals:\n",
        "#   if x >= 1 and x <= 2:\n",
        "#     count += 1\n",
        "# print(count / len(xvals))\n",
        "\n",
        "np.mean((xvals >= 1) & (xvals <= 2))"
      ],
      "metadata": {
        "colab": {
          "base_uri": "https://localhost:8080/"
        },
        "id": "mNi-J1cVhR_x",
        "outputId": "0f4593be-934d-4dbb-eee2-c4b081083a3b"
      },
      "execution_count": null,
      "outputs": [
        {
          "output_type": "execute_result",
          "data": {
            "text/plain": [
              "0.135854"
            ]
          },
          "metadata": {
          },
          "execution_count": 25
        }
      ]
    },
    {
      "cell_type": "code",
      "source": [
        "norm.cdf(2) - norm.cdf(1)"
      ],
      "metadata": {
        "colab": {
          "base_uri": "https://localhost:8080/"
        },
        "id": "zf3dhn1xhe-2",
        "outputId": "9461b4d1-931a-40cf-f7f7-2dc276203bc2"
      },
      "execution_count": null,
      "outputs": [
        {
          "output_type": "execute_result",
          "data": {
            "text/plain": [
              "0.13590512198327787"
            ]
          },
          "metadata": {
          },
          "execution_count": 21
        }
      ]
    },
    {
      "cell_type": "code",
      "source": [
        "from scipy.integrate import quad\n",
        "\n",
        "def f(x):\n",
        "  Z = (2 * np.pi)**0.5\n",
        "  return np.exp(-x**2 / 2) / Z\n",
        "\n",
        "quad(f, 1, 2)"
      ],
      "metadata": {
        "colab": {
          "base_uri": "https://localhost:8080/"
        },
        "id": "72psK9Hkhlhs",
        "outputId": "cea3aad7-df13-4031-8d2f-b8bc19849f28"
      },
      "execution_count": null,
      "outputs": [
        {
          "output_type": "execute_result",
          "data": {
            "text/plain": [
              "(0.13590512198327787, 1.508849955903256e-15)"
            ]
          },
          "metadata": {
          },
          "execution_count": 22
        }
      ]
    },
    {
      "cell_type": "code",
      "source": [
        "# CLT - let's compare binomial and normal\n",
        "n = 100\n",
        "p = 0.2\n",
        "\n",
        "xvals = np.arange(100)\n",
        "yvals = binom.pmf(xvals, n=n, p=p)\n",
        "plt.bar(xvals, yvals)\n",
        "\n",
        "m = p * n\n",
        "v = p * (1-p) * n\n",
        "\n",
        "xvals2 = np.linspace(0, 100, 1000)\n",
        "yvals2 = norm.pdf(xvals2, m, v**0.5)\n",
        "plt.plot(xvals2, yvals2, c='red')\n",
        "\n",
        "plt.title('Binomial vs. Normal')\n",
        "plt.ylabel('P(X=x)')\n",
        "plt.xlabel('x');"
      ],
      "metadata": {
        "colab": {
          "base_uri": "https://localhost:8080/",
          "height": 472
        },
        "id": "N0WxHcvoZvH6",
        "outputId": "be192c61-36f1-4adf-e679-5850601e640d"
      },
      "execution_count": null,
      "outputs": [
        {
          "output_type": "display_data",
          "data": {
            "text/plain": [
              "<Figure size 640x480 with 1 Axes>"
            ],
            "image/png": "[encoded data removed]"
          },
          "metadata": {
          }
        }
      ]
    },
    {
      "cell_type": "code",
      "source": [
        "# CLT - let's compare uniform and normal\n",
        "\n",
        "# unlike the previous example, this is based on SAMPLES\n",
        "# not the actual distribution (since we don't know what it is)\n",
        "N = 1000\n",
        "M = 10000\n",
        "samples = np.zeros(M)\n",
        "for i in range(M):\n",
        "  sample = uniform.rvs(size=N)\n",
        "  samples[i] = np.sum(sample)\n",
        "\n",
        "# theoretical mean of U(a, b) = 0.5 (a + b)\n",
        "# theroetical mean of sum = 0.5 * N\n",
        "# theroetical variance of U(a, b) = (1/12) * (b - a)^2\n",
        "# theoretical variance of sum = (1/12) * N\n",
        "\n",
        "print(\"theoretical mean:\", 0.5 * N)\n",
        "print(\"theoretical variance:\", (1/12) * N)\n",
        "\n",
        "m = np.mean(samples)\n",
        "v = np.var(samples) #np.sum((samples - m)**2)/len(samples)\n",
        "s = np.std(samples) #v**0.5\n",
        "\n",
        "print(\"sample mean:\", m)\n",
        "print(\"sample variance:\", v)\n",
        "\n",
        "# instead of plotting the TRUE distribution of U_1 + U_2 + ... + U_N\n",
        "# let's plot the histogram (approximate distribution)\n",
        "# we set density=True so it's normalized (otherwise, it shows counts)\n",
        "plt.hist(samples, bins=100, density=True)\n",
        "\n",
        "xvals = np.linspace(m - 3 * s, m + 3 * s, 10000)\n",
        "yvals = norm.pdf(xvals, m, s)\n",
        "plt.plot(xvals, yvals, c='red')\n",
        "\n",
        "plt.title('Uniform Sum vs. Normal')\n",
        "plt.ylabel('f(x)')\n",
        "plt.xlabel('x');"
      ],
      "metadata": {
        "colab": {
          "base_uri": "https://localhost:8080/",
          "height": 543
        },
        "id": "rZ7hlBG7afSa",
        "outputId": "05aaf52c-0cbe-4243-ac63-d78b9be24fbf"
      },
      "execution_count": null,
      "outputs": [
        {
          "output_type": "stream",
          "name": "stdout",
          "text": [
            "theoretical mean: 500.0\n",
            "theoretical variance: 83.33333333333333\n",
            "sample mean: 500.0640930633646\n",
            "sample variance: 83.19161714489954\n"
          ]
        },
        {
          "output_type": "display_data",
          "data": {
            "text/plain": [
              "<Figure size 640x480 with 1 Axes>"
            ],
            "image/png": "[encoded data removed]"
          },
          "metadata": {
          }
        }
      ]
    },
    {
      "cell_type": "code",
      "source": [
        "# what about another discrete distribution?\n",
        "\n",
        "N = 1000\n",
        "M = 10000\n",
        "samples = np.zeros(M)\n",
        "for i in range(M):\n",
        "  sample = geom.rvs(size=N, p=0.3)\n",
        "  samples[i] = np.sum(sample)\n",
        "\n",
        "m = np.mean(samples)\n",
        "v = np.var(samples) #np.sum((samples - m)**2)/len(samples)\n",
        "s = np.std(samples) #v**0.5\n",
        "\n",
        "print(\"sample mean:\", m)\n",
        "print(\"sample variance:\", v)\n",
        "\n",
        "plt.hist(samples, bins=100, density=True)\n",
        "\n",
        "xvals = np.linspace(m - 3 * s, m + 3 * s, 10000)\n",
        "yvals = norm.pdf(xvals, m, s)\n",
        "plt.plot(xvals, yvals, c='red')\n",
        "\n",
        "plt.title('Geometric Sum vs. Normal')\n",
        "plt.ylabel('f(x)')\n",
        "plt.xlabel('x');"
      ],
      "metadata": {
        "colab": {
          "base_uri": "https://localhost:8080/",
          "height": 508
        },
        "id": "O5sGLKiocqyG",
        "outputId": "1ca19ec6-249a-4a21-8d31-b8700584b031"
      },
      "execution_count": null,
      "outputs": [
        {
          "output_type": "stream",
          "name": "stdout",
          "text": [
            "sample mean: 3332.5238\n",
            "sample variance: 7853.168433559998\n"
          ]
        },
        {
          "output_type": "display_data",
          "data": {
            "text/plain": [
              "<Figure size 640x480 with 1 Axes>"
            ],
            "image/png": "[encoded data removed]"
          },
          "metadata": {
          }
        }
      ]
    },
    {
      "cell_type": "code",
      "source": [

      ],
      "metadata": {
        "id": "dQ02IRNEdi1E"
      },
      "execution_count": null,
      "outputs": [

      ]
    },
    {
      "cell_type": "code",
      "source": [

      ],
      "metadata": {
        "id": "S0acXBWCxiJL"
      },
      "execution_count": null,
      "outputs": [

      ]
    },
    {
      "cell_type": "code",
      "source": [

      ],
      "metadata": {
        "id": "oaG3igwFxiQU"
      },
      "execution_count": null,
      "outputs": [

      ]
    },
    {
      "cell_type": "code",
      "source": [

      ],
      "metadata": {
        "id": "PzQJleyoxiWi"
      },
      "execution_count": null,
      "outputs": [

      ]
    },
    {
      "cell_type": "markdown",
      "source": [
        "![](https://deeplearningcourses.com/notebooks_v3_pxl?sc=L5rVabHObBsRpryYTp-FxQ&n=LLN+%2B+CLT)"
      ],
      "metadata": {
        "id": "PFJd4PmsxjKb"
      }
    }
  ]
}